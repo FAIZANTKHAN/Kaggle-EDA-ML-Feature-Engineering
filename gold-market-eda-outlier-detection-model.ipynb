{
 "cells": [
  {
   "cell_type": "code",
   "execution_count": 1,
   "id": "fb633557",
   "metadata": {
    "_cell_guid": "b1076dfc-b9ad-4769-8c92-a6c4dae69d19",
    "_uuid": "8f2839f25d086af736a60e9eeb907d3b93b6e0e5",
    "execution": {
     "iopub.execute_input": "2024-02-29T18:45:45.542964Z",
     "iopub.status.busy": "2024-02-29T18:45:45.542091Z",
     "iopub.status.idle": "2024-02-29T18:45:46.598416Z",
     "shell.execute_reply": "2024-02-29T18:45:46.597105Z"
    },
    "papermill": {
     "duration": 1.070533,
     "end_time": "2024-02-29T18:45:46.601294",
     "exception": false,
     "start_time": "2024-02-29T18:45:45.530761",
     "status": "completed"
    },
    "tags": []
   },
   "outputs": [
    {
     "name": "stdout",
     "output_type": "stream",
     "text": [
      "/kaggle/input/daily-gold-price-historical-dataset/gold.csv\n"
     ]
    }
   ],
   "source": [
    "# This Python 3 environment comes with many helpful analytics libraries installed\n",
    "# It is defined by the kaggle/python Docker image: https://github.com/kaggle/docker-python\n",
    "# For example, here's several helpful packages to load\n",
    "\n",
    "import numpy as np # linear algebra\n",
    "import pandas as pd # data processing, CSV file I/O (e.g. pd.read_csv)\n",
    "\n",
    "\n",
    "# Input data files are available in the read-only \"../input/\" directory\n",
    "# For example, running this (by clicking run or pressing Shift+Enter) will list all files under the input directory\n",
    "\n",
    "import os\n",
    "for dirname, _, filenames in os.walk('/kaggle/input'):\n",
    "    for filename in filenames:\n",
    "        print(os.path.join(dirname, filename))\n",
    "\n",
    "# You can write up to 20GB to the current directory (/kaggle/working/) that gets preserved as output when you create a version using \"Save & Run All\" \n",
    "# You can also write temporary files to /kaggle/temp/, but they won't be saved outside of the current session"
   ]
  },
  {
   "cell_type": "markdown",
   "id": "3f7e51de",
   "metadata": {
    "papermill": {
     "duration": 0.008056,
     "end_time": "2024-02-29T18:45:46.617945",
     "exception": false,
     "start_time": "2024-02-29T18:45:46.609889",
     "status": "completed"
    },
    "tags": []
   },
   "source": [
    "**EDA** "
   ]
  },
  {
   "cell_type": "code",
   "execution_count": 2,
   "id": "e345ae2b",
   "metadata": {
    "execution": {
     "iopub.execute_input": "2024-02-29T18:45:46.637668Z",
     "iopub.status.busy": "2024-02-29T18:45:46.636709Z",
     "iopub.status.idle": "2024-02-29T18:45:46.688319Z",
     "shell.execute_reply": "2024-02-29T18:45:46.686918Z"
    },
    "papermill": {
     "duration": 0.064342,
     "end_time": "2024-02-29T18:45:46.691034",
     "exception": false,
     "start_time": "2024-02-29T18:45:46.626692",
     "status": "completed"
    },
    "tags": []
   },
   "outputs": [
    {
     "data": {
      "text/html": [
       "<div>\n",
       "<style scoped>\n",
       "    .dataframe tbody tr th:only-of-type {\n",
       "        vertical-align: middle;\n",
       "    }\n",
       "\n",
       "    .dataframe tbody tr th {\n",
       "        vertical-align: top;\n",
       "    }\n",
       "\n",
       "    .dataframe thead th {\n",
       "        text-align: right;\n",
       "    }\n",
       "</style>\n",
       "<table border=\"1\" class=\"dataframe\">\n",
       "  <thead>\n",
       "    <tr style=\"text-align: right;\">\n",
       "      <th></th>\n",
       "      <th>Date</th>\n",
       "      <th>Open</th>\n",
       "      <th>High</th>\n",
       "      <th>Low</th>\n",
       "      <th>Close</th>\n",
       "      <th>Volume</th>\n",
       "      <th>Currency</th>\n",
       "    </tr>\n",
       "  </thead>\n",
       "  <tbody>\n",
       "    <tr>\n",
       "      <th>0</th>\n",
       "      <td>2000-01-04</td>\n",
       "      <td>289.5</td>\n",
       "      <td>289.5</td>\n",
       "      <td>280.0</td>\n",
       "      <td>283.7</td>\n",
       "      <td>21621</td>\n",
       "      <td>USD</td>\n",
       "    </tr>\n",
       "    <tr>\n",
       "      <th>1</th>\n",
       "      <td>2000-01-05</td>\n",
       "      <td>283.7</td>\n",
       "      <td>285.0</td>\n",
       "      <td>281.0</td>\n",
       "      <td>282.1</td>\n",
       "      <td>25448</td>\n",
       "      <td>USD</td>\n",
       "    </tr>\n",
       "    <tr>\n",
       "      <th>2</th>\n",
       "      <td>2000-01-06</td>\n",
       "      <td>281.6</td>\n",
       "      <td>282.8</td>\n",
       "      <td>280.2</td>\n",
       "      <td>282.4</td>\n",
       "      <td>19055</td>\n",
       "      <td>USD</td>\n",
       "    </tr>\n",
       "    <tr>\n",
       "      <th>3</th>\n",
       "      <td>2000-01-07</td>\n",
       "      <td>282.5</td>\n",
       "      <td>284.5</td>\n",
       "      <td>282.0</td>\n",
       "      <td>282.9</td>\n",
       "      <td>11266</td>\n",
       "      <td>USD</td>\n",
       "    </tr>\n",
       "    <tr>\n",
       "      <th>4</th>\n",
       "      <td>2000-01-10</td>\n",
       "      <td>282.4</td>\n",
       "      <td>283.9</td>\n",
       "      <td>281.8</td>\n",
       "      <td>282.7</td>\n",
       "      <td>30603</td>\n",
       "      <td>USD</td>\n",
       "    </tr>\n",
       "  </tbody>\n",
       "</table>\n",
       "</div>"
      ],
      "text/plain": [
       "         Date   Open   High    Low  Close  Volume Currency\n",
       "0  2000-01-04  289.5  289.5  280.0  283.7   21621      USD\n",
       "1  2000-01-05  283.7  285.0  281.0  282.1   25448      USD\n",
       "2  2000-01-06  281.6  282.8  280.2  282.4   19055      USD\n",
       "3  2000-01-07  282.5  284.5  282.0  282.9   11266      USD\n",
       "4  2000-01-10  282.4  283.9  281.8  282.7   30603      USD"
      ]
     },
     "execution_count": 2,
     "metadata": {},
     "output_type": "execute_result"
    }
   ],
   "source": [
    "df=pd.read_csv(\"/kaggle/input/daily-gold-price-historical-dataset/gold.csv\")\n",
    "df.head(5)\n"
   ]
  },
  {
   "cell_type": "code",
   "execution_count": 3,
   "id": "83547b16",
   "metadata": {
    "execution": {
     "iopub.execute_input": "2024-02-29T18:45:46.711688Z",
     "iopub.status.busy": "2024-02-29T18:45:46.710945Z",
     "iopub.status.idle": "2024-02-29T18:45:46.726890Z",
     "shell.execute_reply": "2024-02-29T18:45:46.725525Z"
    },
    "papermill": {
     "duration": 0.02917,
     "end_time": "2024-02-29T18:45:46.729753",
     "exception": false,
     "start_time": "2024-02-29T18:45:46.700583",
     "status": "completed"
    },
    "tags": []
   },
   "outputs": [
    {
     "data": {
      "text/html": [
       "<div>\n",
       "<style scoped>\n",
       "    .dataframe tbody tr th:only-of-type {\n",
       "        vertical-align: middle;\n",
       "    }\n",
       "\n",
       "    .dataframe tbody tr th {\n",
       "        vertical-align: top;\n",
       "    }\n",
       "\n",
       "    .dataframe thead th {\n",
       "        text-align: right;\n",
       "    }\n",
       "</style>\n",
       "<table border=\"1\" class=\"dataframe\">\n",
       "  <thead>\n",
       "    <tr style=\"text-align: right;\">\n",
       "      <th></th>\n",
       "      <th>Date</th>\n",
       "      <th>Open</th>\n",
       "      <th>High</th>\n",
       "      <th>Low</th>\n",
       "      <th>Close</th>\n",
       "      <th>Volume</th>\n",
       "      <th>Currency</th>\n",
       "    </tr>\n",
       "  </thead>\n",
       "  <tbody>\n",
       "    <tr>\n",
       "      <th>5698</th>\n",
       "      <td>2022-08-29</td>\n",
       "      <td>1748.4</td>\n",
       "      <td>1757.90</td>\n",
       "      <td>1731.40</td>\n",
       "      <td>1749.7</td>\n",
       "      <td>156220</td>\n",
       "      <td>USD</td>\n",
       "    </tr>\n",
       "    <tr>\n",
       "      <th>5699</th>\n",
       "      <td>2022-08-30</td>\n",
       "      <td>1749.8</td>\n",
       "      <td>1752.80</td>\n",
       "      <td>1732.90</td>\n",
       "      <td>1736.3</td>\n",
       "      <td>130664</td>\n",
       "      <td>USD</td>\n",
       "    </tr>\n",
       "    <tr>\n",
       "      <th>5700</th>\n",
       "      <td>2022-08-31</td>\n",
       "      <td>1735.5</td>\n",
       "      <td>1738.00</td>\n",
       "      <td>1720.60</td>\n",
       "      <td>1726.2</td>\n",
       "      <td>176731</td>\n",
       "      <td>USD</td>\n",
       "    </tr>\n",
       "    <tr>\n",
       "      <th>5701</th>\n",
       "      <td>2022-09-01</td>\n",
       "      <td>1723.0</td>\n",
       "      <td>1723.00</td>\n",
       "      <td>1699.10</td>\n",
       "      <td>1709.3</td>\n",
       "      <td>198618</td>\n",
       "      <td>USD</td>\n",
       "    </tr>\n",
       "    <tr>\n",
       "      <th>5702</th>\n",
       "      <td>2022-09-02</td>\n",
       "      <td>1707.9</td>\n",
       "      <td>1729.45</td>\n",
       "      <td>1707.05</td>\n",
       "      <td>1723.0</td>\n",
       "      <td>0</td>\n",
       "      <td>USD</td>\n",
       "    </tr>\n",
       "  </tbody>\n",
       "</table>\n",
       "</div>"
      ],
      "text/plain": [
       "            Date    Open     High      Low   Close  Volume Currency\n",
       "5698  2022-08-29  1748.4  1757.90  1731.40  1749.7  156220      USD\n",
       "5699  2022-08-30  1749.8  1752.80  1732.90  1736.3  130664      USD\n",
       "5700  2022-08-31  1735.5  1738.00  1720.60  1726.2  176731      USD\n",
       "5701  2022-09-01  1723.0  1723.00  1699.10  1709.3  198618      USD\n",
       "5702  2022-09-02  1707.9  1729.45  1707.05  1723.0       0      USD"
      ]
     },
     "execution_count": 3,
     "metadata": {},
     "output_type": "execute_result"
    }
   ],
   "source": [
    "df.tail(5)"
   ]
  },
  {
   "cell_type": "code",
   "execution_count": 4,
   "id": "074cd90b",
   "metadata": {
    "execution": {
     "iopub.execute_input": "2024-02-29T18:45:46.750466Z",
     "iopub.status.busy": "2024-02-29T18:45:46.749988Z",
     "iopub.status.idle": "2024-02-29T18:45:46.786432Z",
     "shell.execute_reply": "2024-02-29T18:45:46.785188Z"
    },
    "papermill": {
     "duration": 0.049973,
     "end_time": "2024-02-29T18:45:46.789151",
     "exception": false,
     "start_time": "2024-02-29T18:45:46.739178",
     "status": "completed"
    },
    "tags": []
   },
   "outputs": [
    {
     "data": {
      "text/html": [
       "<div>\n",
       "<style scoped>\n",
       "    .dataframe tbody tr th:only-of-type {\n",
       "        vertical-align: middle;\n",
       "    }\n",
       "\n",
       "    .dataframe tbody tr th {\n",
       "        vertical-align: top;\n",
       "    }\n",
       "\n",
       "    .dataframe thead th {\n",
       "        text-align: right;\n",
       "    }\n",
       "</style>\n",
       "<table border=\"1\" class=\"dataframe\">\n",
       "  <thead>\n",
       "    <tr style=\"text-align: right;\">\n",
       "      <th></th>\n",
       "      <th>Open</th>\n",
       "      <th>High</th>\n",
       "      <th>Low</th>\n",
       "      <th>Close</th>\n",
       "      <th>Volume</th>\n",
       "    </tr>\n",
       "  </thead>\n",
       "  <tbody>\n",
       "    <tr>\n",
       "      <th>count</th>\n",
       "      <td>5703.000000</td>\n",
       "      <td>5703.000000</td>\n",
       "      <td>5703.000000</td>\n",
       "      <td>5703.000000</td>\n",
       "      <td>5703.000000</td>\n",
       "    </tr>\n",
       "    <tr>\n",
       "      <th>mean</th>\n",
       "      <td>1040.382816</td>\n",
       "      <td>1048.339181</td>\n",
       "      <td>1031.863169</td>\n",
       "      <td>1040.298282</td>\n",
       "      <td>139141.669297</td>\n",
       "    </tr>\n",
       "    <tr>\n",
       "      <th>std</th>\n",
       "      <td>518.733377</td>\n",
       "      <td>522.353946</td>\n",
       "      <td>514.455903</td>\n",
       "      <td>518.524020</td>\n",
       "      <td>102537.449058</td>\n",
       "    </tr>\n",
       "    <tr>\n",
       "      <th>min</th>\n",
       "      <td>256.600000</td>\n",
       "      <td>259.400000</td>\n",
       "      <td>255.100000</td>\n",
       "      <td>256.600000</td>\n",
       "      <td>0.000000</td>\n",
       "    </tr>\n",
       "    <tr>\n",
       "      <th>25%</th>\n",
       "      <td>459.850000</td>\n",
       "      <td>463.900000</td>\n",
       "      <td>457.450000</td>\n",
       "      <td>460.500000</td>\n",
       "      <td>52938.500000</td>\n",
       "    </tr>\n",
       "    <tr>\n",
       "      <th>50%</th>\n",
       "      <td>1188.800000</td>\n",
       "      <td>1198.000000</td>\n",
       "      <td>1179.700000</td>\n",
       "      <td>1188.700000</td>\n",
       "      <td>126006.000000</td>\n",
       "    </tr>\n",
       "    <tr>\n",
       "      <th>75%</th>\n",
       "      <td>1381.400000</td>\n",
       "      <td>1392.750000</td>\n",
       "      <td>1368.100000</td>\n",
       "      <td>1383.050000</td>\n",
       "      <td>193109.000000</td>\n",
       "    </tr>\n",
       "    <tr>\n",
       "      <th>max</th>\n",
       "      <td>2076.400000</td>\n",
       "      <td>2089.200000</td>\n",
       "      <td>2049.000000</td>\n",
       "      <td>2069.400000</td>\n",
       "      <td>816531.000000</td>\n",
       "    </tr>\n",
       "  </tbody>\n",
       "</table>\n",
       "</div>"
      ],
      "text/plain": [
       "              Open         High          Low        Close         Volume\n",
       "count  5703.000000  5703.000000  5703.000000  5703.000000    5703.000000\n",
       "mean   1040.382816  1048.339181  1031.863169  1040.298282  139141.669297\n",
       "std     518.733377   522.353946   514.455903   518.524020  102537.449058\n",
       "min     256.600000   259.400000   255.100000   256.600000       0.000000\n",
       "25%     459.850000   463.900000   457.450000   460.500000   52938.500000\n",
       "50%    1188.800000  1198.000000  1179.700000  1188.700000  126006.000000\n",
       "75%    1381.400000  1392.750000  1368.100000  1383.050000  193109.000000\n",
       "max    2076.400000  2089.200000  2049.000000  2069.400000  816531.000000"
      ]
     },
     "execution_count": 4,
     "metadata": {},
     "output_type": "execute_result"
    }
   ],
   "source": [
    "df.describe()"
   ]
  },
  {
   "cell_type": "code",
   "execution_count": 5,
   "id": "79de6dc6",
   "metadata": {
    "execution": {
     "iopub.execute_input": "2024-02-29T18:45:46.810595Z",
     "iopub.status.busy": "2024-02-29T18:45:46.809648Z",
     "iopub.status.idle": "2024-02-29T18:45:48.425447Z",
     "shell.execute_reply": "2024-02-29T18:45:48.424160Z"
    },
    "papermill": {
     "duration": 1.629859,
     "end_time": "2024-02-29T18:45:48.428401",
     "exception": false,
     "start_time": "2024-02-29T18:45:46.798542",
     "status": "completed"
    },
    "tags": []
   },
   "outputs": [],
   "source": [
    "import matplotlib.pyplot as plt\n",
    "import matplotlib.pyplot as plt\n",
    "import seaborn as sns\n"
   ]
  },
  {
   "cell_type": "code",
   "execution_count": 6,
   "id": "55162e81",
   "metadata": {
    "execution": {
     "iopub.execute_input": "2024-02-29T18:45:48.449786Z",
     "iopub.status.busy": "2024-02-29T18:45:48.449353Z",
     "iopub.status.idle": "2024-02-29T18:46:58.639979Z",
     "shell.execute_reply": "2024-02-29T18:46:58.638538Z"
    },
    "papermill": {
     "duration": 70.216606,
     "end_time": "2024-02-29T18:46:58.654544",
     "exception": false,
     "start_time": "2024-02-29T18:45:48.437938",
     "status": "completed"
    },
    "tags": []
   },
   "outputs": [
    {
     "name": "stderr",
     "output_type": "stream",
     "text": [
      "/opt/conda/lib/python3.10/site-packages/seaborn/_oldcore.py:1119: FutureWarning: use_inf_as_na option is deprecated and will be removed in a future version. Convert inf values to NaN before operating instead.\n",
      "  with pd.option_context('mode.use_inf_as_na', True):\n",
      "/opt/conda/lib/python3.10/site-packages/seaborn/_oldcore.py:1119: FutureWarning: use_inf_as_na option is deprecated and will be removed in a future version. Convert inf values to NaN before operating instead.\n",
      "  with pd.option_context('mode.use_inf_as_na', True):\n"
     ]
    },
    {
     "data": {
      "text/plain": [
       "Text(0.5, 1.0, 'Close Prices Over Time')"
      ]
     },
     "execution_count": 6,
     "metadata": {},
     "output_type": "execute_result"
    },
    {
     "data": {
      "image/png": "[encoded data removed]",
      "text/plain": [
       "<Figure size 1200x600 with 1 Axes>"
      ]
     },
     "metadata": {},
     "output_type": "display_data"
    }
   ],
   "source": [
    "#line plot for close prices over time\n",
    "plt.figure(figsize=(12,6))\n",
    "plt.subplot(2,2,1)\n",
    "sns.lineplot(x='Date',y='Close',data=df)\n",
    "plt.title(\"Close Prices Over Time\")"
   ]
  },
  {
   "cell_type": "code",
   "execution_count": 7,
   "id": "9e946ea1",
   "metadata": {
    "execution": {
     "iopub.execute_input": "2024-02-29T18:46:58.679282Z",
     "iopub.status.busy": "2024-02-29T18:46:58.678830Z",
     "iopub.status.idle": "2024-02-29T18:46:58.849422Z",
     "shell.execute_reply": "2024-02-29T18:46:58.848071Z"
    },
    "papermill": {
     "duration": 0.187226,
     "end_time": "2024-02-29T18:46:58.852322",
     "exception": false,
     "start_time": "2024-02-29T18:46:58.665096",
     "status": "completed"
    },
    "tags": []
   },
   "outputs": [
    {
     "data": {
      "text/plain": [
       "Text(0.5, 1.0, 'Volume Distribution')"
      ]
     },
     "execution_count": 7,
     "metadata": {},
     "output_type": "execute_result"
    },
    {
     "data": {
      "image/png": "[encoded data removed]",
      "text/plain": [
       "<Figure size 640x480 with 1 Axes>"
      ]
     },
     "metadata": {},
     "output_type": "display_data"
    }
   ],
   "source": [
    "#Boxplot for volume\n",
    "plt.subplot(2,2,2)\n",
    "sns.boxplot(x='Volume',data=df)\n",
    "plt.title(\"Volume Distribution\")"
   ]
  },
  {
   "cell_type": "code",
   "execution_count": 8,
   "id": "b3656797",
   "metadata": {
    "execution": {
     "iopub.execute_input": "2024-02-29T18:46:58.877048Z",
     "iopub.status.busy": "2024-02-29T18:46:58.876590Z",
     "iopub.status.idle": "2024-02-29T18:48:12.620360Z",
     "shell.execute_reply": "2024-02-29T18:48:12.618982Z"
    },
    "papermill": {
     "duration": 73.770252,
     "end_time": "2024-02-29T18:48:12.633600",
     "exception": false,
     "start_time": "2024-02-29T18:46:58.863348",
     "status": "completed"
    },
    "tags": []
   },
   "outputs": [
    {
     "name": "stderr",
     "output_type": "stream",
     "text": [
      "/opt/conda/lib/python3.10/site-packages/seaborn/_oldcore.py:1119: FutureWarning: use_inf_as_na option is deprecated and will be removed in a future version. Convert inf values to NaN before operating instead.\n",
      "  with pd.option_context('mode.use_inf_as_na', True):\n",
      "/opt/conda/lib/python3.10/site-packages/seaborn/_oldcore.py:1119: FutureWarning: use_inf_as_na option is deprecated and will be removed in a future version. Convert inf values to NaN before operating instead.\n",
      "  with pd.option_context('mode.use_inf_as_na', True):\n",
      "/opt/conda/lib/python3.10/site-packages/seaborn/_oldcore.py:1119: FutureWarning: use_inf_as_na option is deprecated and will be removed in a future version. Convert inf values to NaN before operating instead.\n",
      "  with pd.option_context('mode.use_inf_as_na', True):\n",
      "/opt/conda/lib/python3.10/site-packages/seaborn/_oldcore.py:1119: FutureWarning: use_inf_as_na option is deprecated and will be removed in a future version. Convert inf values to NaN before operating instead.\n",
      "  with pd.option_context('mode.use_inf_as_na', True):\n"
     ]
    },
    {
     "data": {
      "text/plain": [
       "Text(0.5, 1.0, 'Candlestick Plot')"
      ]
     },
     "execution_count": 8,
     "metadata": {},
     "output_type": "execute_result"
    },
    {
     "data": {
      "image/png": "[encoded data removed]",
      "text/plain": [
       "<Figure size 640x480 with 1 Axes>"
      ]
     },
     "metadata": {},
     "output_type": "display_data"
    }
   ],
   "source": [
    "#Candlestick plot\n",
    "plt.subplot(2,2,3)\n",
    "sns.lineplot(x='Date',y='High',data=df,label='High')\n",
    "sns.lineplot(x='Date',y='Low',data=df,label='Low')\n",
    "plt.fill_between(df[\"Date\"],df['Low'],df['High'],alpha=0.2)\n",
    "plt.title('Candlestick Plot')\n"
   ]
  },
  {
   "cell_type": "code",
   "execution_count": 9,
   "id": "acadfe4a",
   "metadata": {
    "execution": {
     "iopub.execute_input": "2024-02-29T18:48:12.660163Z",
     "iopub.status.busy": "2024-02-29T18:48:12.659264Z",
     "iopub.status.idle": "2024-02-29T18:48:13.076208Z",
     "shell.execute_reply": "2024-02-29T18:48:13.074817Z"
    },
    "papermill": {
     "duration": 0.433564,
     "end_time": "2024-02-29T18:48:13.079313",
     "exception": false,
     "start_time": "2024-02-29T18:48:12.645749",
     "status": "completed"
    },
    "tags": []
   },
   "outputs": [
    {
     "name": "stderr",
     "output_type": "stream",
     "text": [
      "/opt/conda/lib/python3.10/site-packages/seaborn/_oldcore.py:1119: FutureWarning: use_inf_as_na option is deprecated and will be removed in a future version. Convert inf values to NaN before operating instead.\n",
      "  with pd.option_context('mode.use_inf_as_na', True):\n"
     ]
    },
    {
     "data": {
      "text/plain": [
       "Text(0.5, 1.0, 'Daily Price Changes')"
      ]
     },
     "execution_count": 9,
     "metadata": {},
     "output_type": "execute_result"
    },
    {
     "data": {
      "image/png": "[encoded data removed]",
      "text/plain": [
       "<Figure size 640x480 with 1 Axes>"
      ]
     },
     "metadata": {},
     "output_type": "display_data"
    }
   ],
   "source": [
    "# Histogram of daily price changes\n",
    "plt.subplot(2, 2, 4)\n",
    "df['PriceChange'] = df['Close'] - df['Open']\n",
    "sns.histplot(df['PriceChange'], bins=20, kde=True)\n",
    "plt.title('Daily Price Changes')"
   ]
  },
  {
   "cell_type": "markdown",
   "id": "fbc6ede3",
   "metadata": {
    "papermill": {
     "duration": 0.012776,
     "end_time": "2024-02-29T18:48:13.105272",
     "exception": false,
     "start_time": "2024-02-29T18:48:13.092496",
     "status": "completed"
    },
    "tags": []
   },
   "source": [
    "**OUTLIER DETECTION USING Z-SCORE**"
   ]
  },
  {
   "cell_type": "code",
   "execution_count": 10,
   "id": "73a67e20",
   "metadata": {
    "execution": {
     "iopub.execute_input": "2024-02-29T18:48:13.133944Z",
     "iopub.status.busy": "2024-02-29T18:48:13.133494Z",
     "iopub.status.idle": "2024-02-29T18:48:13.149776Z",
     "shell.execute_reply": "2024-02-29T18:48:13.148538Z"
    },
    "papermill": {
     "duration": 0.03471,
     "end_time": "2024-02-29T18:48:13.152669",
     "exception": false,
     "start_time": "2024-02-29T18:48:13.117959",
     "status": "completed"
    },
    "tags": []
   },
   "outputs": [
    {
     "data": {
      "text/html": [
       "<div>\n",
       "<style scoped>\n",
       "    .dataframe tbody tr th:only-of-type {\n",
       "        vertical-align: middle;\n",
       "    }\n",
       "\n",
       "    .dataframe tbody tr th {\n",
       "        vertical-align: top;\n",
       "    }\n",
       "\n",
       "    .dataframe thead th {\n",
       "        text-align: right;\n",
       "    }\n",
       "</style>\n",
       "<table border=\"1\" class=\"dataframe\">\n",
       "  <thead>\n",
       "    <tr style=\"text-align: right;\">\n",
       "      <th></th>\n",
       "      <th>Date</th>\n",
       "      <th>Open</th>\n",
       "      <th>High</th>\n",
       "      <th>Low</th>\n",
       "      <th>Close</th>\n",
       "      <th>Volume</th>\n",
       "      <th>Currency</th>\n",
       "      <th>PriceChange</th>\n",
       "    </tr>\n",
       "  </thead>\n",
       "  <tbody>\n",
       "  </tbody>\n",
       "</table>\n",
       "</div>"
      ],
      "text/plain": [
       "Empty DataFrame\n",
       "Columns: [Date, Open, High, Low, Close, Volume, Currency, PriceChange]\n",
       "Index: []"
      ]
     },
     "execution_count": 10,
     "metadata": {},
     "output_type": "execute_result"
    }
   ],
   "source": [
    "#Z-score based outlier detection\n",
    "z_score=np.abs((df['Close']-df['Close'].mean())/df['Close'].std())\n",
    "outliers=df[z_score>2]\n",
    "outliers"
   ]
  },
  {
   "cell_type": "markdown",
   "id": "6425ac93",
   "metadata": {
    "papermill": {
     "duration": 0.01244,
     "end_time": "2024-02-29T18:48:13.177957",
     "exception": false,
     "start_time": "2024-02-29T18:48:13.165517",
     "status": "completed"
    },
    "tags": []
   },
   "source": [
    "**LETS MAKE A MACHINE LEARNING MODEL**"
   ]
  },
  {
   "cell_type": "code",
   "execution_count": 11,
   "id": "5355d155",
   "metadata": {
    "execution": {
     "iopub.execute_input": "2024-02-29T18:48:13.205974Z",
     "iopub.status.busy": "2024-02-29T18:48:13.205522Z",
     "iopub.status.idle": "2024-02-29T18:48:13.641596Z",
     "shell.execute_reply": "2024-02-29T18:48:13.640127Z"
    },
    "papermill": {
     "duration": 0.453717,
     "end_time": "2024-02-29T18:48:13.644634",
     "exception": false,
     "start_time": "2024-02-29T18:48:13.190917",
     "status": "completed"
    },
    "tags": []
   },
   "outputs": [],
   "source": [
    "from sklearn.model_selection import train_test_split,cross_val_score\n",
    "from sklearn.linear_model import LinearRegression\n",
    "from sklearn.metrics import mean_squared_error\n",
    "import numpy as np\n",
    "\n",
    "X=df[['Open','High','Low','Volume']]\n",
    "y=df['Close']\n"
   ]
  },
  {
   "cell_type": "code",
   "execution_count": 12,
   "id": "f9b9f8f2",
   "metadata": {
    "execution": {
     "iopub.execute_input": "2024-02-29T18:48:13.673529Z",
     "iopub.status.busy": "2024-02-29T18:48:13.673042Z",
     "iopub.status.idle": "2024-02-29T18:48:13.683568Z",
     "shell.execute_reply": "2024-02-29T18:48:13.682411Z"
    },
    "papermill": {
     "duration": 0.028121,
     "end_time": "2024-02-29T18:48:13.685998",
     "exception": false,
     "start_time": "2024-02-29T18:48:13.657877",
     "status": "completed"
    },
    "tags": []
   },
   "outputs": [],
   "source": [
    "#Split data into training and testing sets\n",
    "X_train,X_test,y_train,y_test=train_test_split(X,y,test_size=0.2,random_state=42)\n",
    "\n",
    "#linear regression model\n",
    "model=LinearRegression()\n"
   ]
  },
  {
   "cell_type": "code",
   "execution_count": 13,
   "id": "02c815b9",
   "metadata": {
    "execution": {
     "iopub.execute_input": "2024-02-29T18:48:13.714000Z",
     "iopub.status.busy": "2024-02-29T18:48:13.713553Z",
     "iopub.status.idle": "2024-02-29T18:48:13.777755Z",
     "shell.execute_reply": "2024-02-29T18:48:13.776509Z"
    },
    "papermill": {
     "duration": 0.08133,
     "end_time": "2024-02-29T18:48:13.780338",
     "exception": false,
     "start_time": "2024-02-29T18:48:13.699008",
     "status": "completed"
    },
    "tags": []
   },
   "outputs": [
    {
     "data": {
      "text/plain": [
       "array([-17.4196501 , -23.23165016, -21.67692293, -21.23560584,\n",
       "       -25.78271598])"
      ]
     },
     "execution_count": 13,
     "metadata": {},
     "output_type": "execute_result"
    }
   ],
   "source": [
    "cv_scores=cross_val_score(model,X_train,y_train,cv=5,scoring='neg_mean_squared_error')\n",
    "cv_scores"
   ]
  },
  {
   "cell_type": "code",
   "execution_count": 14,
   "id": "1f627151",
   "metadata": {
    "execution": {
     "iopub.execute_input": "2024-02-29T18:48:13.809583Z",
     "iopub.status.busy": "2024-02-29T18:48:13.809066Z",
     "iopub.status.idle": "2024-02-29T18:48:13.817714Z",
     "shell.execute_reply": "2024-02-29T18:48:13.815994Z"
    },
    "papermill": {
     "duration": 0.02721,
     "end_time": "2024-02-29T18:48:13.820806",
     "exception": false,
     "start_time": "2024-02-29T18:48:13.793596",
     "status": "completed"
    },
    "tags": []
   },
   "outputs": [
    {
     "data": {
      "text/plain": [
       "-21.86930899963022"
      ]
     },
     "execution_count": 14,
     "metadata": {},
     "output_type": "execute_result"
    }
   ],
   "source": [
    "np.mean(cv_scores)"
   ]
  },
  {
   "cell_type": "code",
   "execution_count": 15,
   "id": "3a846d04",
   "metadata": {
    "execution": {
     "iopub.execute_input": "2024-02-29T18:48:13.851163Z",
     "iopub.status.busy": "2024-02-29T18:48:13.850238Z",
     "iopub.status.idle": "2024-02-29T18:48:13.862188Z",
     "shell.execute_reply": "2024-02-29T18:48:13.861148Z"
    },
    "papermill": {
     "duration": 0.03073,
     "end_time": "2024-02-29T18:48:13.864991",
     "exception": false,
     "start_time": "2024-02-29T18:48:13.834261",
     "status": "completed"
    },
    "tags": []
   },
   "outputs": [],
   "source": [
    "# Train the model on the full training set\n",
    "model.fit(X_train, y_train)\n",
    "\n",
    "# Predictions on the test set\n",
    "y_pred = model.predict(X_test)"
   ]
  },
  {
   "cell_type": "code",
   "execution_count": 16,
   "id": "bb00947a",
   "metadata": {
    "execution": {
     "iopub.execute_input": "2024-02-29T18:48:13.894058Z",
     "iopub.status.busy": "2024-02-29T18:48:13.893580Z",
     "iopub.status.idle": "2024-02-29T18:48:13.902289Z",
     "shell.execute_reply": "2024-02-29T18:48:13.901152Z"
    },
    "papermill": {
     "duration": 0.026416,
     "end_time": "2024-02-29T18:48:13.904826",
     "exception": false,
     "start_time": "2024-02-29T18:48:13.878410",
     "status": "completed"
    },
    "tags": []
   },
   "outputs": [
    {
     "data": {
      "text/plain": [
       "21.987005900774214"
      ]
     },
     "execution_count": 16,
     "metadata": {},
     "output_type": "execute_result"
    }
   ],
   "source": [
    "# Evaluate the model\n",
    "mse = mean_squared_error(y_test, y_pred)\n",
    "mse"
   ]
  },
  {
   "cell_type": "markdown",
   "id": "543c4270",
   "metadata": {
    "papermill": {
     "duration": 0.013297,
     "end_time": "2024-02-29T18:48:13.933320",
     "exception": false,
     "start_time": "2024-02-29T18:48:13.920023",
     "status": "completed"
    },
    "tags": []
   },
   "source": [
    "**OUTLIER DETECTION USING IQR**"
   ]
  },
  {
   "cell_type": "code",
   "execution_count": 17,
   "id": "ce1abc80",
   "metadata": {
    "execution": {
     "iopub.execute_input": "2024-02-29T18:48:13.963647Z",
     "iopub.status.busy": "2024-02-29T18:48:13.962633Z",
     "iopub.status.idle": "2024-02-29T18:48:13.977174Z",
     "shell.execute_reply": "2024-02-29T18:48:13.975995Z"
    },
    "papermill": {
     "duration": 0.032774,
     "end_time": "2024-02-29T18:48:13.979903",
     "exception": false,
     "start_time": "2024-02-29T18:48:13.947129",
     "status": "completed"
    },
    "tags": []
   },
   "outputs": [
    {
     "data": {
      "text/plain": [
       "0       False\n",
       "1       False\n",
       "2       False\n",
       "3       False\n",
       "4       False\n",
       "        ...  \n",
       "5698    False\n",
       "5699    False\n",
       "5700    False\n",
       "5701    False\n",
       "5702    False\n",
       "Name: Close, Length: 5703, dtype: bool"
      ]
     },
     "execution_count": 17,
     "metadata": {},
     "output_type": "execute_result"
    }
   ],
   "source": [
    "# Outlier Detection\n",
    "Q1 = df['Close'].quantile(0.25)\n",
    "Q3 = df['Close'].quantile(0.75)\n",
    "IQR = Q3 - Q1\n",
    "outliers = (df['Close'] < (Q1 - 1.5 * IQR)) | (df['Close'] > (Q3 + 1.5 * IQR))\n",
    "outliers"
   ]
  },
  {
   "cell_type": "code",
   "execution_count": 18,
   "id": "3a0f5ded",
   "metadata": {
    "execution": {
     "iopub.execute_input": "2024-02-29T18:48:14.009879Z",
     "iopub.status.busy": "2024-02-29T18:48:14.009351Z",
     "iopub.status.idle": "2024-02-29T18:48:14.204993Z",
     "shell.execute_reply": "2024-02-29T18:48:14.203553Z"
    },
    "papermill": {
     "duration": 0.214506,
     "end_time": "2024-02-29T18:48:14.208279",
     "exception": false,
     "start_time": "2024-02-29T18:48:13.993773",
     "status": "completed"
    },
    "tags": []
   },
   "outputs": [],
   "source": [
    "\n",
    "\n",
    "from sklearn.model_selection import train_test_split, cross_val_score\n",
    "from sklearn.ensemble import RandomForestRegressor\n",
    "from sklearn.metrics import mean_squared_error\n",
    "from sklearn.preprocessing import StandardScaler\n",
    "\n"
   ]
  },
  {
   "cell_type": "code",
   "execution_count": 19,
   "id": "c77eda5a",
   "metadata": {
    "execution": {
     "iopub.execute_input": "2024-02-29T18:48:14.238977Z",
     "iopub.status.busy": "2024-02-29T18:48:14.238484Z",
     "iopub.status.idle": "2024-02-29T18:48:14.250545Z",
     "shell.execute_reply": "2024-02-29T18:48:14.249291Z"
    },
    "papermill": {
     "duration": 0.030305,
     "end_time": "2024-02-29T18:48:14.253074",
     "exception": false,
     "start_time": "2024-02-29T18:48:14.222769",
     "status": "completed"
    },
    "tags": []
   },
   "outputs": [],
   "source": [
    "# Standardize features\n",
    "scaler = StandardScaler()\n",
    "X_standardized = scaler.fit_transform(X)"
   ]
  },
  {
   "cell_type": "code",
   "execution_count": 20,
   "id": "611162a1",
   "metadata": {
    "execution": {
     "iopub.execute_input": "2024-02-29T18:48:14.283585Z",
     "iopub.status.busy": "2024-02-29T18:48:14.283097Z",
     "iopub.status.idle": "2024-02-29T18:48:14.292183Z",
     "shell.execute_reply": "2024-02-29T18:48:14.290906Z"
    },
    "papermill": {
     "duration": 0.027528,
     "end_time": "2024-02-29T18:48:14.294929",
     "exception": false,
     "start_time": "2024-02-29T18:48:14.267401",
     "status": "completed"
    },
    "tags": []
   },
   "outputs": [],
   "source": [
    "# Split data into training and testing sets\n",
    "X_train, X_test, y_train, y_test = train_test_split(X_standardized, y, test_size=0.2, random_state=42)"
   ]
  },
  {
   "cell_type": "code",
   "execution_count": 21,
   "id": "b2f6ac7f",
   "metadata": {
    "execution": {
     "iopub.execute_input": "2024-02-29T18:48:14.326983Z",
     "iopub.status.busy": "2024-02-29T18:48:14.326548Z",
     "iopub.status.idle": "2024-02-29T18:48:14.332526Z",
     "shell.execute_reply": "2024-02-29T18:48:14.330893Z"
    },
    "papermill": {
     "duration": 0.026078,
     "end_time": "2024-02-29T18:48:14.335261",
     "exception": false,
     "start_time": "2024-02-29T18:48:14.309183",
     "status": "completed"
    },
    "tags": []
   },
   "outputs": [],
   "source": [
    "# Machine Learning Model (Random Forest Regressor)\n",
    "modelr = RandomForestRegressor(random_state=42)"
   ]
  },
  {
   "cell_type": "code",
   "execution_count": 22,
   "id": "0bf122a5",
   "metadata": {
    "execution": {
     "iopub.execute_input": "2024-02-29T18:48:14.367066Z",
     "iopub.status.busy": "2024-02-29T18:48:14.366597Z",
     "iopub.status.idle": "2024-02-29T18:48:23.017719Z",
     "shell.execute_reply": "2024-02-29T18:48:23.016468Z"
    },
    "papermill": {
     "duration": 8.670964,
     "end_time": "2024-02-29T18:48:23.021141",
     "exception": false,
     "start_time": "2024-02-29T18:48:14.350177",
     "status": "completed"
    },
    "tags": []
   },
   "outputs": [],
   "source": [
    "# Cross-validation\n",
    "cv_scores = cross_val_score(modelr, X_standardized, y, cv=5, scoring='neg_mean_squared_error')\n",
    "rmse_cv_scores = [abs(score)**0.5 for score in cv_scores]\n"
   ]
  },
  {
   "cell_type": "code",
   "execution_count": 23,
   "id": "9f3fbfcc",
   "metadata": {
    "execution": {
     "iopub.execute_input": "2024-02-29T18:48:23.053635Z",
     "iopub.status.busy": "2024-02-29T18:48:23.053110Z",
     "iopub.status.idle": "2024-02-29T18:48:23.060490Z",
     "shell.execute_reply": "2024-02-29T18:48:23.059607Z"
    },
    "papermill": {
     "duration": 0.026727,
     "end_time": "2024-02-29T18:48:23.062724",
     "exception": false,
     "start_time": "2024-02-29T18:48:23.035997",
     "status": "completed"
    },
    "tags": []
   },
   "outputs": [
    {
     "data": {
      "text/plain": [
       "[89.91570597858117,\n",
       " 116.13840902673122,\n",
       " 8.79554386194193,\n",
       " 6.077262574692153,\n",
       " 26.233271290950306]"
      ]
     },
     "execution_count": 23,
     "metadata": {},
     "output_type": "execute_result"
    }
   ],
   "source": [
    "rmse_cv_scores"
   ]
  },
  {
   "cell_type": "code",
   "execution_count": 24,
   "id": "54af4591",
   "metadata": {
    "execution": {
     "iopub.execute_input": "2024-02-29T18:48:23.094860Z",
     "iopub.status.busy": "2024-02-29T18:48:23.093413Z",
     "iopub.status.idle": "2024-02-29T18:48:23.101793Z",
     "shell.execute_reply": "2024-02-29T18:48:23.100491Z"
    },
    "papermill": {
     "duration": 0.027248,
     "end_time": "2024-02-29T18:48:23.104468",
     "exception": false,
     "start_time": "2024-02-29T18:48:23.077220",
     "status": "completed"
    },
    "tags": []
   },
   "outputs": [
    {
     "data": {
      "text/plain": [
       "49.432038546579356"
      ]
     },
     "execution_count": 24,
     "metadata": {},
     "output_type": "execute_result"
    }
   ],
   "source": [
    "sum(rmse_cv_scores)/len(rmse_cv_scores)"
   ]
  },
  {
   "cell_type": "code",
   "execution_count": 25,
   "id": "c843465a",
   "metadata": {
    "execution": {
     "iopub.execute_input": "2024-02-29T18:48:23.136760Z",
     "iopub.status.busy": "2024-02-29T18:48:23.136007Z",
     "iopub.status.idle": "2024-02-29T18:48:24.828200Z",
     "shell.execute_reply": "2024-02-29T18:48:24.826925Z"
    },
    "papermill": {
     "duration": 1.711896,
     "end_time": "2024-02-29T18:48:24.831101",
     "exception": false,
     "start_time": "2024-02-29T18:48:23.119205",
     "status": "completed"
    },
    "tags": []
   },
   "outputs": [
    {
     "data": {
      "text/html": [
       "<style>#sk-container-id-1 {color: black;background-color: white;}#sk-container-id-1 pre{padding: 0;}#sk-container-id-1 div.sk-toggleable {background-color: white;}#sk-container-id-1 label.sk-toggleable__label {cursor: pointer;display: block;width: 100%;margin-bottom: 0;padding: 0.3em;box-sizing: border-box;text-align: center;}#sk-container-id-1 label.sk-toggleable__label-arrow:before {content: \"▸\";float: left;margin-right: 0.25em;color: #696969;}#sk-container-id-1 label.sk-toggleable__label-arrow:hover:before {color: black;}#sk-container-id-1 div.sk-estimator:hover label.sk-toggleable__label-arrow:before {color: black;}#sk-container-id-1 div.sk-toggleable__content {max-height: 0;max-width: 0;overflow: hidden;text-align: left;background-color: #f0f8ff;}#sk-container-id-1 div.sk-toggleable__content pre {margin: 0.2em;color: black;border-radius: 0.25em;background-color: #f0f8ff;}#sk-container-id-1 input.sk-toggleable__control:checked~div.sk-toggleable__content {max-height: 200px;max-width: 100%;overflow: auto;}#sk-container-id-1 input.sk-toggleable__control:checked~label.sk-toggleable__label-arrow:before {content: \"▾\";}#sk-container-id-1 div.sk-estimator input.sk-toggleable__control:checked~label.sk-toggleable__label {background-color: #d4ebff;}#sk-container-id-1 div.sk-label input.sk-toggleable__control:checked~label.sk-toggleable__label {background-color: #d4ebff;}#sk-container-id-1 input.sk-hidden--visually {border: 0;clip: rect(1px 1px 1px 1px);clip: rect(1px, 1px, 1px, 1px);height: 1px;margin: -1px;overflow: hidden;padding: 0;position: absolute;width: 1px;}#sk-container-id-1 div.sk-estimator {font-family: monospace;background-color: #f0f8ff;border: 1px dotted black;border-radius: 0.25em;box-sizing: border-box;margin-bottom: 0.5em;}#sk-container-id-1 div.sk-estimator:hover {background-color: #d4ebff;}#sk-container-id-1 div.sk-parallel-item::after {content: \"\";width: 100%;border-bottom: 1px solid gray;flex-grow: 1;}#sk-container-id-1 div.sk-label:hover label.sk-toggleable__label {background-color: #d4ebff;}#sk-container-id-1 div.sk-serial::before {content: \"\";position: absolute;border-left: 1px solid gray;box-sizing: border-box;top: 0;bottom: 0;left: 50%;z-index: 0;}#sk-container-id-1 div.sk-serial {display: flex;flex-direction: column;align-items: center;background-color: white;padding-right: 0.2em;padding-left: 0.2em;position: relative;}#sk-container-id-1 div.sk-item {position: relative;z-index: 1;}#sk-container-id-1 div.sk-parallel {display: flex;align-items: stretch;justify-content: center;background-color: white;position: relative;}#sk-container-id-1 div.sk-item::before, #sk-container-id-1 div.sk-parallel-item::before {content: \"\";position: absolute;border-left: 1px solid gray;box-sizing: border-box;top: 0;bottom: 0;left: 50%;z-index: -1;}#sk-container-id-1 div.sk-parallel-item {display: flex;flex-direction: column;z-index: 1;position: relative;background-color: white;}#sk-container-id-1 div.sk-parallel-item:first-child::after {align-self: flex-end;width: 50%;}#sk-container-id-1 div.sk-parallel-item:last-child::after {align-self: flex-start;width: 50%;}#sk-container-id-1 div.sk-parallel-item:only-child::after {width: 0;}#sk-container-id-1 div.sk-dashed-wrapped {border: 1px dashed gray;margin: 0 0.4em 0.5em 0.4em;box-sizing: border-box;padding-bottom: 0.4em;background-color: white;}#sk-container-id-1 div.sk-label label {font-family: monospace;font-weight: bold;display: inline-block;line-height: 1.2em;}#sk-container-id-1 div.sk-label-container {text-align: center;}#sk-container-id-1 div.sk-container {/* jupyter's `normalize.less` sets `[hidden] { display: none; }` but bootstrap.min.css set `[hidden] { display: none !important; }` so we also need the `!important` here to be able to override the default hidden behavior on the sphinx rendered scikit-learn.org. See: https://github.com/scikit-learn/scikit-learn/issues/21755 */display: inline-block !important;position: relative;}#sk-container-id-1 div.sk-text-repr-fallback {display: none;}</style><div id=\"sk-container-id-1\" class=\"sk-top-container\"><div class=\"sk-text-repr-fallback\"><pre>RandomForestRegressor(random_state=42)</pre><b>In a Jupyter environment, please rerun this cell to show the HTML representation or trust the notebook. <br />On GitHub, the HTML representation is unable to render, please try loading this page with nbviewer.org.</b></div><div class=\"sk-container\" hidden><div class=\"sk-item\"><div class=\"sk-estimator sk-toggleable\"><input class=\"sk-toggleable__control sk-hidden--visually\" id=\"sk-estimator-id-1\" type=\"checkbox\" checked><label for=\"sk-estimator-id-1\" class=\"sk-toggleable__label sk-toggleable__label-arrow\">RandomForestRegressor</label><div class=\"sk-toggleable__content\"><pre>RandomForestRegressor(random_state=42)</pre></div></div></div></div></div>"
      ],
      "text/plain": [
       "RandomForestRegressor(random_state=42)"
      ]
     },
     "execution_count": 25,
     "metadata": {},
     "output_type": "execute_result"
    }
   ],
   "source": [
    "# Training the model on the training set\n",
    "modelr.fit(X_train, y_train)"
   ]
  },
  {
   "cell_type": "code",
   "execution_count": 26,
   "id": "056be946",
   "metadata": {
    "execution": {
     "iopub.execute_input": "2024-02-29T18:48:24.864353Z",
     "iopub.status.busy": "2024-02-29T18:48:24.863625Z",
     "iopub.status.idle": "2024-02-29T18:48:24.908563Z",
     "shell.execute_reply": "2024-02-29T18:48:24.906847Z"
    },
    "papermill": {
     "duration": 0.065706,
     "end_time": "2024-02-29T18:48:24.911782",
     "exception": false,
     "start_time": "2024-02-29T18:48:24.846076",
     "status": "completed"
    },
    "tags": []
   },
   "outputs": [],
   "source": [
    "# Predictions on the testing set\n",
    "y_pred = modelr.predict(X_test)"
   ]
  },
  {
   "cell_type": "code",
   "execution_count": 27,
   "id": "f63c47fb",
   "metadata": {
    "execution": {
     "iopub.execute_input": "2024-02-29T18:48:24.946423Z",
     "iopub.status.busy": "2024-02-29T18:48:24.945964Z",
     "iopub.status.idle": "2024-02-29T18:48:24.954916Z",
     "shell.execute_reply": "2024-02-29T18:48:24.954031Z"
    },
    "papermill": {
     "duration": 0.029892,
     "end_time": "2024-02-29T18:48:24.957780",
     "exception": false,
     "start_time": "2024-02-29T18:48:24.927888",
     "status": "completed"
    },
    "tags": []
   },
   "outputs": [
    {
     "data": {
      "text/plain": [
       "6.332106064778143"
      ]
     },
     "execution_count": 27,
     "metadata": {},
     "output_type": "execute_result"
    }
   ],
   "source": [
    "# Evaluation\n",
    "rmse = mean_squared_error(y_test, y_pred, squared=False)\n",
    "rmse"
   ]
  }
 ],
 "metadata": {
  "kaggle": {
   "accelerator": "none",
   "dataSources": [
    {
     "datasetId": 2514782,
     "sourceId": 4267793,
     "sourceType": "datasetVersion"
    }
   ],
   "dockerImageVersionId": 30646,
   "isGpuEnabled": false,
   "isInternetEnabled": true,
   "language": "python",
   "sourceType": "notebook"
  },
  "kernelspec": {
   "display_name": "Python 3",
   "language": "python",
   "name": "python3"
  },
  "language_info": {
   "codemirror_mode": {
    "name": "ipython",
    "version": 3
   },
   "file_extension": ".py",
   "mimetype": "text/x-python",
   "name": "python",
   "nbconvert_exporter": "python",
   "pygments_lexer": "ipython3",
   "version": "3.10.13"
  },
  "papermill": {
   "default_parameters": {},
   "duration": 165.733723,
   "end_time": "2024-02-29T18:48:27.595503",
   "environment_variables": {},
   "exception": null,
   "input_path": "__notebook__.ipynb",
   "output_path": "__notebook__.ipynb",
   "parameters": {},
   "start_time": "2024-02-29T18:45:41.861780",
   "version": "2.5.0"
  }
 },
 "nbformat": 4,
 "nbformat_minor": 5
}
