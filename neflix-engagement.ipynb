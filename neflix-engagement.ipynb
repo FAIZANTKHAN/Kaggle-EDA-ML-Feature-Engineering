{
 "cells": [
  {
   "cell_type": "code",
   "execution_count": 1,
   "id": "ebac1558",
   "metadata": {
    "_cell_guid": "52b7f455-c635-4e6a-b2b2-a6e2ae7dbfe4",
    "_uuid": "fb520aaf-12a1-432a-b7e2-6813d87e6c22",
    "collapsed": false,
    "execution": {
     "iopub.execute_input": "2023-12-15T21:02:58.528317Z",
     "iopub.status.busy": "2023-12-15T21:02:58.527864Z",
     "iopub.status.idle": "2023-12-15T21:02:58.858642Z",
     "shell.execute_reply": "2023-12-15T21:02:58.857677Z"
    },
    "jupyter": {
     "outputs_hidden": false
    },
    "papermill": {
     "duration": 0.339014,
     "end_time": "2023-12-15T21:02:58.861330",
     "exception": false,
     "start_time": "2023-12-15T21:02:58.522316",
     "status": "completed"
    },
    "tags": []
   },
   "outputs": [
    {
     "name": "stdout",
     "output_type": "stream",
     "text": [
      "/kaggle/input/netflix-engagement-report-2023jan-jun/Netflix_Engagement_Report_2023_Jan-Jun_cleaned.csv\n"
     ]
    }
   ],
   "source": [
    "# This Python 3 environment comes with many helpful analytics libraries installed\n",
    "# It is defined by the kaggle/python Docker image: https://github.com/kaggle/docker-python\n",
    "# For example, here's several helpful packages to load\n",
    "\n",
    "import numpy as np # linear algebra\n",
    "import pandas as pd # data processing, CSV file I/O (e.g. pd.read_csv)\n",
    "\n",
    "# Input data files are available in the read-only \"../input/\" directory\n",
    "# For example, running this (by clicking run or pressing Shift+Enter) will list all files under the input directory\n",
    "\n",
    "import os\n",
    "for dirname, _, filenames in os.walk('/kaggle/input'):\n",
    "    for filename in filenames:\n",
    "        print(os.path.join(dirname, filename))\n",
    "\n",
    "# You can write up to 20GB to the current directory (/kaggle/working/) that gets preserved as output when you create a version using \"Save & Run All\" \n",
    "# You can also write temporary files to /kaggle/temp/, but they won't be saved outside of the current session"
   ]
  },
  {
   "cell_type": "code",
   "execution_count": 2,
   "id": "66437f9e",
   "metadata": {
    "execution": {
     "iopub.execute_input": "2023-12-15T21:02:58.871767Z",
     "iopub.status.busy": "2023-12-15T21:02:58.870964Z",
     "iopub.status.idle": "2023-12-15T21:02:58.875333Z",
     "shell.execute_reply": "2023-12-15T21:02:58.874577Z"
    },
    "papermill": {
     "duration": 0.011398,
     "end_time": "2023-12-15T21:02:58.877148",
     "exception": false,
     "start_time": "2023-12-15T21:02:58.865750",
     "status": "completed"
    },
    "tags": []
   },
   "outputs": [],
   "source": [
    "import pandas as pd\n",
    "import numpy as mp\n",
    "import matplotlib.pyplot as plt"
   ]
  },
  {
   "cell_type": "code",
   "execution_count": 3,
   "id": "86e922ab",
   "metadata": {
    "execution": {
     "iopub.execute_input": "2023-12-15T21:02:58.885922Z",
     "iopub.status.busy": "2023-12-15T21:02:58.885373Z",
     "iopub.status.idle": "2023-12-15T21:02:58.938639Z",
     "shell.execute_reply": "2023-12-15T21:02:58.937724Z"
    },
    "papermill": {
     "duration": 0.059929,
     "end_time": "2023-12-15T21:02:58.940633",
     "exception": false,
     "start_time": "2023-12-15T21:02:58.880704",
     "status": "completed"
    },
    "tags": []
   },
   "outputs": [
    {
     "data": {
      "text/plain": [
       "(18214, 4)"
      ]
     },
     "execution_count": 3,
     "metadata": {},
     "output_type": "execute_result"
    }
   ],
   "source": [
    "df=pd.read_csv(\"/kaggle/input/netflix-engagement-report-2023jan-jun/Netflix_Engagement_Report_2023_Jan-Jun_cleaned.csv\")\n",
    "df.shape  #To know the shape of data (rows & columns)"
   ]
  },
  {
   "cell_type": "code",
   "execution_count": 4,
   "id": "24d919f2",
   "metadata": {
    "execution": {
     "iopub.execute_input": "2023-12-15T21:02:58.951245Z",
     "iopub.status.busy": "2023-12-15T21:02:58.950841Z",
     "iopub.status.idle": "2023-12-15T21:02:58.957902Z",
     "shell.execute_reply": "2023-12-15T21:02:58.956111Z"
    },
    "papermill": {
     "duration": 0.015893,
     "end_time": "2023-12-15T21:02:58.960350",
     "exception": false,
     "start_time": "2023-12-15T21:02:58.944457",
     "status": "completed"
    },
    "tags": []
   },
   "outputs": [
    {
     "data": {
      "text/plain": [
       "Index(['Title', 'Available Globally', 'Release Date', 'Hours Viewed'], dtype='object')"
      ]
     },
     "execution_count": 4,
     "metadata": {},
     "output_type": "execute_result"
    }
   ],
   "source": [
    "df.columns #get the column names"
   ]
  },
  {
   "cell_type": "code",
   "execution_count": 5,
   "id": "bf21f487",
   "metadata": {
    "execution": {
     "iopub.execute_input": "2023-12-15T21:02:58.969735Z",
     "iopub.status.busy": "2023-12-15T21:02:58.969373Z",
     "iopub.status.idle": "2023-12-15T21:02:58.983403Z",
     "shell.execute_reply": "2023-12-15T21:02:58.982453Z"
    },
    "papermill": {
     "duration": 0.021072,
     "end_time": "2023-12-15T21:02:58.985389",
     "exception": false,
     "start_time": "2023-12-15T21:02:58.964317",
     "status": "completed"
    },
    "tags": []
   },
   "outputs": [
    {
     "data": {
      "text/plain": [
       "Title                 object\n",
       "Available Globally    object\n",
       "Release Date          object\n",
       "Hours Viewed           int64\n",
       "dtype: object"
      ]
     },
     "execution_count": 5,
     "metadata": {},
     "output_type": "execute_result"
    }
   ],
   "source": [
    "df.dtypes  #data types of each column"
   ]
  },
  {
   "cell_type": "code",
   "execution_count": 6,
   "id": "1db281ef",
   "metadata": {
    "execution": {
     "iopub.execute_input": "2023-12-15T21:02:58.995589Z",
     "iopub.status.busy": "2023-12-15T21:02:58.994627Z",
     "iopub.status.idle": "2023-12-15T21:02:59.007834Z",
     "shell.execute_reply": "2023-12-15T21:02:59.006985Z"
    },
    "papermill": {
     "duration": 0.020727,
     "end_time": "2023-12-15T21:02:59.010154",
     "exception": false,
     "start_time": "2023-12-15T21:02:58.989427",
     "status": "completed"
    },
    "tags": []
   },
   "outputs": [
    {
     "data": {
      "text/plain": [
       "Title                     0\n",
       "Available Globally        0\n",
       "Release Date          13359\n",
       "Hours Viewed              0\n",
       "dtype: int64"
      ]
     },
     "execution_count": 6,
     "metadata": {},
     "output_type": "execute_result"
    }
   ],
   "source": [
    "df.isnull().sum() #check for missing value"
   ]
  },
  {
   "cell_type": "code",
   "execution_count": 7,
   "id": "7fc8a479",
   "metadata": {
    "execution": {
     "iopub.execute_input": "2023-12-15T21:02:59.020028Z",
     "iopub.status.busy": "2023-12-15T21:02:59.019391Z",
     "iopub.status.idle": "2023-12-15T21:02:59.044549Z",
     "shell.execute_reply": "2023-12-15T21:02:59.043228Z"
    },
    "papermill": {
     "duration": 0.032632,
     "end_time": "2023-12-15T21:02:59.046893",
     "exception": false,
     "start_time": "2023-12-15T21:02:59.014261",
     "status": "completed"
    },
    "tags": []
   },
   "outputs": [
    {
     "data": {
      "text/html": [
       "<div>\n",
       "<style scoped>\n",
       "    .dataframe tbody tr th:only-of-type {\n",
       "        vertical-align: middle;\n",
       "    }\n",
       "\n",
       "    .dataframe tbody tr th {\n",
       "        vertical-align: top;\n",
       "    }\n",
       "\n",
       "    .dataframe thead th {\n",
       "        text-align: right;\n",
       "    }\n",
       "</style>\n",
       "<table border=\"1\" class=\"dataframe\">\n",
       "  <thead>\n",
       "    <tr style=\"text-align: right;\">\n",
       "      <th></th>\n",
       "      <th>Hours Viewed</th>\n",
       "    </tr>\n",
       "  </thead>\n",
       "  <tbody>\n",
       "    <tr>\n",
       "      <th>count</th>\n",
       "      <td>1.821400e+04</td>\n",
       "    </tr>\n",
       "    <tr>\n",
       "      <th>mean</th>\n",
       "      <td>5.130954e+06</td>\n",
       "    </tr>\n",
       "    <tr>\n",
       "      <th>std</th>\n",
       "      <td>1.871767e+07</td>\n",
       "    </tr>\n",
       "    <tr>\n",
       "      <th>min</th>\n",
       "      <td>1.000000e+05</td>\n",
       "    </tr>\n",
       "    <tr>\n",
       "      <th>25%</th>\n",
       "      <td>2.000000e+05</td>\n",
       "    </tr>\n",
       "    <tr>\n",
       "      <th>50%</th>\n",
       "      <td>7.000000e+05</td>\n",
       "    </tr>\n",
       "    <tr>\n",
       "      <th>75%</th>\n",
       "      <td>3.400000e+06</td>\n",
       "    </tr>\n",
       "    <tr>\n",
       "      <th>max</th>\n",
       "      <td>8.121000e+08</td>\n",
       "    </tr>\n",
       "  </tbody>\n",
       "</table>\n",
       "</div>"
      ],
      "text/plain": [
       "       Hours Viewed\n",
       "count  1.821400e+04\n",
       "mean   5.130954e+06\n",
       "std    1.871767e+07\n",
       "min    1.000000e+05\n",
       "25%    2.000000e+05\n",
       "50%    7.000000e+05\n",
       "75%    3.400000e+06\n",
       "max    8.121000e+08"
      ]
     },
     "execution_count": 7,
     "metadata": {},
     "output_type": "execute_result"
    }
   ],
   "source": [
    "df.describe()  #summary of statistical of numerical columns"
   ]
  },
  {
   "cell_type": "code",
   "execution_count": 8,
   "id": "31caf8a6",
   "metadata": {
    "execution": {
     "iopub.execute_input": "2023-12-15T21:02:59.058300Z",
     "iopub.status.busy": "2023-12-15T21:02:59.057914Z",
     "iopub.status.idle": "2023-12-15T21:02:59.066591Z",
     "shell.execute_reply": "2023-12-15T21:02:59.065166Z"
    },
    "papermill": {
     "duration": 0.016793,
     "end_time": "2023-12-15T21:02:59.068621",
     "exception": false,
     "start_time": "2023-12-15T21:02:59.051828",
     "status": "completed"
    },
    "tags": []
   },
   "outputs": [
    {
     "data": {
      "text/plain": [
       "Title                 The Night Agent: Season 1\n",
       "Available Globally                          Yes\n",
       "Release Date                          3/23/2023\n",
       "Hours Viewed                          812100000\n",
       "Name: 0, dtype: object"
      ]
     },
     "execution_count": 8,
     "metadata": {},
     "output_type": "execute_result"
    }
   ],
   "source": [
    "max_index=df[\"Hours Viewed\"].idxmax()\n",
    "df.loc[max_index]  #Most Watched Show"
   ]
  },
  {
   "cell_type": "code",
   "execution_count": 9,
   "id": "9d098f61",
   "metadata": {
    "execution": {
     "iopub.execute_input": "2023-12-15T21:02:59.078732Z",
     "iopub.status.busy": "2023-12-15T21:02:59.078374Z",
     "iopub.status.idle": "2023-12-15T21:02:59.087442Z",
     "shell.execute_reply": "2023-12-15T21:02:59.085833Z"
    },
    "papermill": {
     "duration": 0.016948,
     "end_time": "2023-12-15T21:02:59.089839",
     "exception": false,
     "start_time": "2023-12-15T21:02:59.072891",
     "status": "completed"
    },
    "tags": []
   },
   "outputs": [
    {
     "data": {
      "text/plain": [
       "Title                 #Selfie (2014)\n",
       "Available Globally               Yes\n",
       "Release Date                     NaN\n",
       "Hours Viewed                  100000\n",
       "Name: 14401, dtype: object"
      ]
     },
     "execution_count": 9,
     "metadata": {},
     "output_type": "execute_result"
    }
   ],
   "source": [
    "min_index=df[\"Hours Viewed\"].idxmin()\n",
    "df.loc[min_index]  #Least Watched Show"
   ]
  },
  {
   "cell_type": "code",
   "execution_count": 10,
   "id": "521ead49",
   "metadata": {
    "execution": {
     "iopub.execute_input": "2023-12-15T21:02:59.100650Z",
     "iopub.status.busy": "2023-12-15T21:02:59.100276Z",
     "iopub.status.idle": "2023-12-15T21:02:59.155571Z",
     "shell.execute_reply": "2023-12-15T21:02:59.154354Z"
    },
    "papermill": {
     "duration": 0.064023,
     "end_time": "2023-12-15T21:02:59.158580",
     "exception": false,
     "start_time": "2023-12-15T21:02:59.094557",
     "status": "completed"
    },
    "tags": []
   },
   "outputs": [
    {
     "data": {
      "text/plain": [
       "Title                                                                     Available Globally  Release Date  Hours Viewed\n",
       "#Alive // #살아있다                                                           Yes                 9/8/2020      10700000        1\n",
       "School Tales The Series: Season 1 // โรงเรียนผีมีอยู่ว่า...: ซีซั่น 1     Yes                 8/10/2022     2900000         1\n",
       "Scaredy Cats: Season 1                                                    Yes                 10/1/2021     16000000        1\n",
       "Say I Do: Season 1                                                        Yes                 7/1/2020      1200000         1\n",
       "Saving Capitalism                                                         Yes                 11/21/2017    200000          1\n",
       "                                                                                                                           ..\n",
       "Gudetama: An Eggcellent Adventure: Season 1 // ぐでたま 〜母をたずねてどんくらい〜: シーズン1  Yes                 12/13/2022    17400000        1\n",
       "Guardians of the Tomb                                                     No                  3/2/2018      300000          1\n",
       "Grumpy Christmas // Una Navidad no tan padre                              Yes                 12/21/2021    500000          1\n",
       "Grudge // Kin                                                             Yes                 10/8/2021     2900000         1\n",
       "Ẹlẹṣin Ọba: The King's Horseman                                           Yes                 11/4/2022     600000          1\n",
       "Name: count, Length: 4855, dtype: int64"
      ]
     },
     "execution_count": 10,
     "metadata": {},
     "output_type": "execute_result"
    }
   ],
   "source": [
    "df.value_counts() #frequency counts of categorical columns"
   ]
  },
  {
   "cell_type": "markdown",
   "id": "42e8b526",
   "metadata": {
    "papermill": {
     "duration": 0.004781,
     "end_time": "2023-12-15T21:02:59.168463",
     "exception": false,
     "start_time": "2023-12-15T21:02:59.163682",
     "status": "completed"
    },
    "tags": []
   },
   "source": [
    "***Now we are going to use various methods and functions of pandas to perform data cleaning tasks, such as dropping or filling missing values,converting data types,etc***"
   ]
  },
  {
   "cell_type": "code",
   "execution_count": 11,
   "id": "811ef8a5",
   "metadata": {
    "execution": {
     "iopub.execute_input": "2023-12-15T21:02:59.179034Z",
     "iopub.status.busy": "2023-12-15T21:02:59.178665Z",
     "iopub.status.idle": "2023-12-15T21:02:59.194361Z",
     "shell.execute_reply": "2023-12-15T21:02:59.192652Z"
    },
    "papermill": {
     "duration": 0.024199,
     "end_time": "2023-12-15T21:02:59.197136",
     "exception": false,
     "start_time": "2023-12-15T21:02:59.172937",
     "status": "completed"
    },
    "tags": []
   },
   "outputs": [],
   "source": [
    "df.dropna(inplace=True) #Drop rows with missing values\n",
    "\n",
    "df.rename(columns={\"type\":\"show_type\"},inplace=True) #Rename columns for consistency\n",
    "\n",
    "df.drop_duplicates(inplace=True) #Remove Duplicates\n"
   ]
  },
  {
   "cell_type": "markdown",
   "id": "a18179b2",
   "metadata": {
    "papermill": {
     "duration": 0.004222,
     "end_time": "2023-12-15T21:02:59.206351",
     "exception": false,
     "start_time": "2023-12-15T21:02:59.202129",
     "status": "completed"
    },
    "tags": []
   },
   "source": [
    "***So cleaning is done,Now we are going to visualize the data and discover patterns,trends,relationship, and outliers(using matplotlib)***"
   ]
  },
  {
   "cell_type": "code",
   "execution_count": 12,
   "id": "ef5b31ac",
   "metadata": {
    "execution": {
     "iopub.execute_input": "2023-12-15T21:02:59.217752Z",
     "iopub.status.busy": "2023-12-15T21:02:59.217411Z",
     "iopub.status.idle": "2023-12-15T21:03:06.588476Z",
     "shell.execute_reply": "2023-12-15T21:03:06.587771Z"
    },
    "papermill": {
     "duration": 7.378908,
     "end_time": "2023-12-15T21:03:06.590412",
     "exception": false,
     "start_time": "2023-12-15T21:02:59.211504",
     "status": "completed"
    },
    "tags": []
   },
   "outputs": [
    {
     "data": {
      "image/png": "[encoded data removed]",
      "text/plain": [
       "<Figure size 640x480 with 1 Axes>"
      ]
     },
     "metadata": {},
     "output_type": "display_data"
    }
   ],
   "source": [
    "#Plotting a histogram of the release year\n",
    "plt.hist(df[\"Release Date\"],bins=20)\n",
    "plt.title(\"Distribution Of Release Year\")\n",
    "plt.xlabel(\"Release Year\")\n",
    "plt.ylabel(\"Frequency\")\n",
    "plt.show()"
   ]
  }
 ],
 "metadata": {
  "kaggle": {
   "accelerator": "none",
   "dataSources": [
    {
     "datasetId": 4155432,
     "sourceId": 7187788,
     "sourceType": "datasetVersion"
    }
   ],
   "dockerImageVersionId": 30626,
   "isGpuEnabled": false,
   "isInternetEnabled": true,
   "language": "python",
   "sourceType": "notebook"
  },
  "kernelspec": {
   "display_name": "Python 3",
   "language": "python",
   "name": "python3"
  },
  "language_info": {
   "codemirror_mode": {
    "name": "ipython",
    "version": 3
   },
   "file_extension": ".py",
   "mimetype": "text/x-python",
   "name": "python",
   "nbconvert_exporter": "python",
   "pygments_lexer": "ipython3",
   "version": "3.10.12"
  },
  "papermill": {
   "default_parameters": {},
   "duration": 11.360257,
   "end_time": "2023-12-15T21:03:07.215348",
   "environment_variables": {},
   "exception": null,
   "input_path": "__notebook__.ipynb",
   "output_path": "__notebook__.ipynb",
   "parameters": {},
   "start_time": "2023-12-15T21:02:55.855091",
   "version": "2.4.0"
  }
 },
 "nbformat": 4,
 "nbformat_minor": 5
}
