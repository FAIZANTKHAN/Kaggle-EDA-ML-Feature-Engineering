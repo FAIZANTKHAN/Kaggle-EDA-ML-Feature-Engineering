{
 "cells": [
  {
   "cell_type": "code",
   "execution_count": 1,
   "id": "68afc428",
   "metadata": {
    "_cell_guid": "b1076dfc-b9ad-4769-8c92-a6c4dae69d19",
    "_uuid": "8f2839f25d086af736a60e9eeb907d3b93b6e0e5",
    "execution": {
     "iopub.execute_input": "2024-01-06T20:01:20.504050Z",
     "iopub.status.busy": "2024-01-06T20:01:20.503662Z",
     "iopub.status.idle": "2024-01-06T20:01:21.169601Z",
     "shell.execute_reply": "2024-01-06T20:01:21.168664Z"
    },
    "papermill": {
     "duration": 0.674893,
     "end_time": "2024-01-06T20:01:21.171652",
     "exception": false,
     "start_time": "2024-01-06T20:01:20.496759",
     "status": "completed"
    },
    "tags": []
   },
   "outputs": [
    {
     "name": "stdout",
     "output_type": "stream",
     "text": [
      "/kaggle/input/pima-indians-diabetes/pima-indians-diabetes.csv\n"
     ]
    }
   ],
   "source": [
    "# This Python 3 environment comes with many helpful analytics libraries installed\n",
    "# It is defined by the kaggle/python Docker image: https://github.com/kaggle/docker-python\n",
    "# For example, here's several helpful packages to load\n",
    "\n",
    "import numpy as np # linear algebra\n",
    "import pandas as pd # data processing, CSV file I/O (e.g. pd.read_csv)\n",
    "\n",
    "# Input data files are available in the read-only \"../input/\" directory\n",
    "# For example, running this (by clicking run or pressing Shift+Enter) will list all files under the input directory\n",
    "\n",
    "import os\n",
    "for dirname, _, filenames in os.walk('/kaggle/input'):\n",
    "    for filename in filenames:\n",
    "        print(os.path.join(dirname, filename))\n",
    "\n",
    "# You can write up to 20GB to the current directory (/kaggle/working/) that gets preserved as output when you create a version using \"Save & Run All\" \n",
    "# You can also write temporary files to /kaggle/temp/, but they won't be saved outside of the current session"
   ]
  },
  {
   "cell_type": "code",
   "execution_count": 2,
   "id": "34216756",
   "metadata": {
    "execution": {
     "iopub.execute_input": "2024-01-06T20:01:21.184343Z",
     "iopub.status.busy": "2024-01-06T20:01:21.183772Z",
     "iopub.status.idle": "2024-01-06T20:01:21.229005Z",
     "shell.execute_reply": "2024-01-06T20:01:21.228061Z"
    },
    "papermill": {
     "duration": 0.054038,
     "end_time": "2024-01-06T20:01:21.231059",
     "exception": false,
     "start_time": "2024-01-06T20:01:21.177021",
     "status": "completed"
    },
    "tags": []
   },
   "outputs": [
    {
     "data": {
      "text/html": [
       "<div>\n",
       "<style scoped>\n",
       "    .dataframe tbody tr th:only-of-type {\n",
       "        vertical-align: middle;\n",
       "    }\n",
       "\n",
       "    .dataframe tbody tr th {\n",
       "        vertical-align: top;\n",
       "    }\n",
       "\n",
       "    .dataframe thead th {\n",
       "        text-align: right;\n",
       "    }\n",
       "</style>\n",
       "<table border=\"1\" class=\"dataframe\">\n",
       "  <thead>\n",
       "    <tr style=\"text-align: right;\">\n",
       "      <th></th>\n",
       "      <th>Pregnancies</th>\n",
       "      <th>Glucose</th>\n",
       "      <th>BloodPressure</th>\n",
       "      <th>SkinThickness</th>\n",
       "      <th>Insulin</th>\n",
       "      <th>BMI</th>\n",
       "      <th>DiabetesPedigreeFunction</th>\n",
       "      <th>Age</th>\n",
       "      <th>Outcome</th>\n",
       "    </tr>\n",
       "  </thead>\n",
       "  <tbody>\n",
       "    <tr>\n",
       "      <th>0</th>\n",
       "      <td>1</td>\n",
       "      <td>85</td>\n",
       "      <td>66</td>\n",
       "      <td>29</td>\n",
       "      <td>0</td>\n",
       "      <td>26.6</td>\n",
       "      <td>0.351</td>\n",
       "      <td>31</td>\n",
       "      <td>0</td>\n",
       "    </tr>\n",
       "    <tr>\n",
       "      <th>1</th>\n",
       "      <td>8</td>\n",
       "      <td>183</td>\n",
       "      <td>64</td>\n",
       "      <td>0</td>\n",
       "      <td>0</td>\n",
       "      <td>23.3</td>\n",
       "      <td>0.672</td>\n",
       "      <td>32</td>\n",
       "      <td>1</td>\n",
       "    </tr>\n",
       "    <tr>\n",
       "      <th>2</th>\n",
       "      <td>1</td>\n",
       "      <td>89</td>\n",
       "      <td>66</td>\n",
       "      <td>23</td>\n",
       "      <td>94</td>\n",
       "      <td>28.1</td>\n",
       "      <td>0.167</td>\n",
       "      <td>21</td>\n",
       "      <td>0</td>\n",
       "    </tr>\n",
       "    <tr>\n",
       "      <th>3</th>\n",
       "      <td>0</td>\n",
       "      <td>137</td>\n",
       "      <td>40</td>\n",
       "      <td>35</td>\n",
       "      <td>168</td>\n",
       "      <td>43.1</td>\n",
       "      <td>2.288</td>\n",
       "      <td>33</td>\n",
       "      <td>1</td>\n",
       "    </tr>\n",
       "    <tr>\n",
       "      <th>4</th>\n",
       "      <td>5</td>\n",
       "      <td>116</td>\n",
       "      <td>74</td>\n",
       "      <td>0</td>\n",
       "      <td>0</td>\n",
       "      <td>25.6</td>\n",
       "      <td>0.201</td>\n",
       "      <td>30</td>\n",
       "      <td>0</td>\n",
       "    </tr>\n",
       "    <tr>\n",
       "      <th>5</th>\n",
       "      <td>3</td>\n",
       "      <td>78</td>\n",
       "      <td>50</td>\n",
       "      <td>32</td>\n",
       "      <td>88</td>\n",
       "      <td>31.0</td>\n",
       "      <td>0.248</td>\n",
       "      <td>26</td>\n",
       "      <td>1</td>\n",
       "    </tr>\n",
       "    <tr>\n",
       "      <th>6</th>\n",
       "      <td>10</td>\n",
       "      <td>115</td>\n",
       "      <td>0</td>\n",
       "      <td>0</td>\n",
       "      <td>0</td>\n",
       "      <td>35.3</td>\n",
       "      <td>0.134</td>\n",
       "      <td>29</td>\n",
       "      <td>0</td>\n",
       "    </tr>\n",
       "    <tr>\n",
       "      <th>7</th>\n",
       "      <td>2</td>\n",
       "      <td>197</td>\n",
       "      <td>70</td>\n",
       "      <td>45</td>\n",
       "      <td>543</td>\n",
       "      <td>30.5</td>\n",
       "      <td>0.158</td>\n",
       "      <td>53</td>\n",
       "      <td>1</td>\n",
       "    </tr>\n",
       "    <tr>\n",
       "      <th>8</th>\n",
       "      <td>8</td>\n",
       "      <td>125</td>\n",
       "      <td>96</td>\n",
       "      <td>0</td>\n",
       "      <td>0</td>\n",
       "      <td>0.0</td>\n",
       "      <td>0.232</td>\n",
       "      <td>54</td>\n",
       "      <td>1</td>\n",
       "    </tr>\n",
       "    <tr>\n",
       "      <th>9</th>\n",
       "      <td>4</td>\n",
       "      <td>110</td>\n",
       "      <td>92</td>\n",
       "      <td>0</td>\n",
       "      <td>0</td>\n",
       "      <td>37.6</td>\n",
       "      <td>0.191</td>\n",
       "      <td>30</td>\n",
       "      <td>0</td>\n",
       "    </tr>\n",
       "  </tbody>\n",
       "</table>\n",
       "</div>"
      ],
      "text/plain": [
       "   Pregnancies  Glucose  BloodPressure  SkinThickness  Insulin   BMI  \\\n",
       "0            1       85             66             29        0  26.6   \n",
       "1            8      183             64              0        0  23.3   \n",
       "2            1       89             66             23       94  28.1   \n",
       "3            0      137             40             35      168  43.1   \n",
       "4            5      116             74              0        0  25.6   \n",
       "5            3       78             50             32       88  31.0   \n",
       "6           10      115              0              0        0  35.3   \n",
       "7            2      197             70             45      543  30.5   \n",
       "8            8      125             96              0        0   0.0   \n",
       "9            4      110             92              0        0  37.6   \n",
       "\n",
       "   DiabetesPedigreeFunction  Age  Outcome  \n",
       "0                     0.351   31        0  \n",
       "1                     0.672   32        1  \n",
       "2                     0.167   21        0  \n",
       "3                     2.288   33        1  \n",
       "4                     0.201   30        0  \n",
       "5                     0.248   26        1  \n",
       "6                     0.134   29        0  \n",
       "7                     0.158   53        1  \n",
       "8                     0.232   54        1  \n",
       "9                     0.191   30        0  "
      ]
     },
     "execution_count": 2,
     "metadata": {},
     "output_type": "execute_result"
    }
   ],
   "source": [
    "import pandas as pd\n",
    "df=pd.read_csv(\"/kaggle/input/pima-indians-diabetes/pima-indians-diabetes.csv\")\n",
    "df.columns=[\"Pregnancies\",\"Glucose\",\"BloodPressure\",\"SkinThickness\",\"Insulin\",\"BMI\",\"DiabetesPedigreeFunction\",\"Age\",\"Outcome\"]\n",
    "df.head(10)"
   ]
  },
  {
   "cell_type": "markdown",
   "id": "f2d20c58",
   "metadata": {
    "papermill": {
     "duration": 0.004946,
     "end_time": "2024-01-06T20:01:21.241436",
     "exception": false,
     "start_time": "2024-01-06T20:01:21.236490",
     "status": "completed"
    },
    "tags": []
   },
   "source": [
    "IN THIS NOTEBOOK I AM GOING TO SHOW HOW THE SCORE DIFFER WITH BAGGING AND WITHOUT BAGGING"
   ]
  },
  {
   "cell_type": "code",
   "execution_count": 3,
   "id": "1c260abf",
   "metadata": {
    "execution": {
     "iopub.execute_input": "2024-01-06T20:01:21.253291Z",
     "iopub.status.busy": "2024-01-06T20:01:21.252960Z",
     "iopub.status.idle": "2024-01-06T20:01:21.260296Z",
     "shell.execute_reply": "2024-01-06T20:01:21.259681Z"
    },
    "papermill": {
     "duration": 0.01563,
     "end_time": "2024-01-06T20:01:21.262190",
     "exception": false,
     "start_time": "2024-01-06T20:01:21.246560",
     "status": "completed"
    },
    "tags": []
   },
   "outputs": [
    {
     "data": {
      "text/plain": [
       "Pregnancies                 0\n",
       "Glucose                     0\n",
       "BloodPressure               0\n",
       "SkinThickness               0\n",
       "Insulin                     0\n",
       "BMI                         0\n",
       "DiabetesPedigreeFunction    0\n",
       "Age                         0\n",
       "Outcome                     0\n",
       "dtype: int64"
      ]
     },
     "execution_count": 3,
     "metadata": {},
     "output_type": "execute_result"
    }
   ],
   "source": [
    "df.isnull().sum()"
   ]
  },
  {
   "cell_type": "code",
   "execution_count": 4,
   "id": "5f0c4052",
   "metadata": {
    "execution": {
     "iopub.execute_input": "2024-01-06T20:01:21.274622Z",
     "iopub.status.busy": "2024-01-06T20:01:21.274187Z",
     "iopub.status.idle": "2024-01-06T20:01:21.306640Z",
     "shell.execute_reply": "2024-01-06T20:01:21.305634Z"
    },
    "papermill": {
     "duration": 0.041304,
     "end_time": "2024-01-06T20:01:21.308886",
     "exception": false,
     "start_time": "2024-01-06T20:01:21.267582",
     "status": "completed"
    },
    "tags": []
   },
   "outputs": [
    {
     "data": {
      "text/html": [
       "<div>\n",
       "<style scoped>\n",
       "    .dataframe tbody tr th:only-of-type {\n",
       "        vertical-align: middle;\n",
       "    }\n",
       "\n",
       "    .dataframe tbody tr th {\n",
       "        vertical-align: top;\n",
       "    }\n",
       "\n",
       "    .dataframe thead th {\n",
       "        text-align: right;\n",
       "    }\n",
       "</style>\n",
       "<table border=\"1\" class=\"dataframe\">\n",
       "  <thead>\n",
       "    <tr style=\"text-align: right;\">\n",
       "      <th></th>\n",
       "      <th>Pregnancies</th>\n",
       "      <th>Glucose</th>\n",
       "      <th>BloodPressure</th>\n",
       "      <th>SkinThickness</th>\n",
       "      <th>Insulin</th>\n",
       "      <th>BMI</th>\n",
       "      <th>DiabetesPedigreeFunction</th>\n",
       "      <th>Age</th>\n",
       "      <th>Outcome</th>\n",
       "    </tr>\n",
       "  </thead>\n",
       "  <tbody>\n",
       "    <tr>\n",
       "      <th>count</th>\n",
       "      <td>767.000000</td>\n",
       "      <td>767.000000</td>\n",
       "      <td>767.000000</td>\n",
       "      <td>767.000000</td>\n",
       "      <td>767.000000</td>\n",
       "      <td>767.000000</td>\n",
       "      <td>767.000000</td>\n",
       "      <td>767.000000</td>\n",
       "      <td>767.000000</td>\n",
       "    </tr>\n",
       "    <tr>\n",
       "      <th>mean</th>\n",
       "      <td>3.842243</td>\n",
       "      <td>120.859192</td>\n",
       "      <td>69.101695</td>\n",
       "      <td>20.517601</td>\n",
       "      <td>79.903520</td>\n",
       "      <td>31.990482</td>\n",
       "      <td>0.471674</td>\n",
       "      <td>33.219035</td>\n",
       "      <td>0.348110</td>\n",
       "    </tr>\n",
       "    <tr>\n",
       "      <th>std</th>\n",
       "      <td>3.370877</td>\n",
       "      <td>31.978468</td>\n",
       "      <td>19.368155</td>\n",
       "      <td>15.954059</td>\n",
       "      <td>115.283105</td>\n",
       "      <td>7.889091</td>\n",
       "      <td>0.331497</td>\n",
       "      <td>11.752296</td>\n",
       "      <td>0.476682</td>\n",
       "    </tr>\n",
       "    <tr>\n",
       "      <th>min</th>\n",
       "      <td>0.000000</td>\n",
       "      <td>0.000000</td>\n",
       "      <td>0.000000</td>\n",
       "      <td>0.000000</td>\n",
       "      <td>0.000000</td>\n",
       "      <td>0.000000</td>\n",
       "      <td>0.078000</td>\n",
       "      <td>21.000000</td>\n",
       "      <td>0.000000</td>\n",
       "    </tr>\n",
       "    <tr>\n",
       "      <th>25%</th>\n",
       "      <td>1.000000</td>\n",
       "      <td>99.000000</td>\n",
       "      <td>62.000000</td>\n",
       "      <td>0.000000</td>\n",
       "      <td>0.000000</td>\n",
       "      <td>27.300000</td>\n",
       "      <td>0.243500</td>\n",
       "      <td>24.000000</td>\n",
       "      <td>0.000000</td>\n",
       "    </tr>\n",
       "    <tr>\n",
       "      <th>50%</th>\n",
       "      <td>3.000000</td>\n",
       "      <td>117.000000</td>\n",
       "      <td>72.000000</td>\n",
       "      <td>23.000000</td>\n",
       "      <td>32.000000</td>\n",
       "      <td>32.000000</td>\n",
       "      <td>0.371000</td>\n",
       "      <td>29.000000</td>\n",
       "      <td>0.000000</td>\n",
       "    </tr>\n",
       "    <tr>\n",
       "      <th>75%</th>\n",
       "      <td>6.000000</td>\n",
       "      <td>140.000000</td>\n",
       "      <td>80.000000</td>\n",
       "      <td>32.000000</td>\n",
       "      <td>127.500000</td>\n",
       "      <td>36.600000</td>\n",
       "      <td>0.625000</td>\n",
       "      <td>41.000000</td>\n",
       "      <td>1.000000</td>\n",
       "    </tr>\n",
       "    <tr>\n",
       "      <th>max</th>\n",
       "      <td>17.000000</td>\n",
       "      <td>199.000000</td>\n",
       "      <td>122.000000</td>\n",
       "      <td>99.000000</td>\n",
       "      <td>846.000000</td>\n",
       "      <td>67.100000</td>\n",
       "      <td>2.420000</td>\n",
       "      <td>81.000000</td>\n",
       "      <td>1.000000</td>\n",
       "    </tr>\n",
       "  </tbody>\n",
       "</table>\n",
       "</div>"
      ],
      "text/plain": [
       "       Pregnancies     Glucose  BloodPressure  SkinThickness     Insulin  \\\n",
       "count   767.000000  767.000000     767.000000     767.000000  767.000000   \n",
       "mean      3.842243  120.859192      69.101695      20.517601   79.903520   \n",
       "std       3.370877   31.978468      19.368155      15.954059  115.283105   \n",
       "min       0.000000    0.000000       0.000000       0.000000    0.000000   \n",
       "25%       1.000000   99.000000      62.000000       0.000000    0.000000   \n",
       "50%       3.000000  117.000000      72.000000      23.000000   32.000000   \n",
       "75%       6.000000  140.000000      80.000000      32.000000  127.500000   \n",
       "max      17.000000  199.000000     122.000000      99.000000  846.000000   \n",
       "\n",
       "              BMI  DiabetesPedigreeFunction         Age     Outcome  \n",
       "count  767.000000                767.000000  767.000000  767.000000  \n",
       "mean    31.990482                  0.471674   33.219035    0.348110  \n",
       "std      7.889091                  0.331497   11.752296    0.476682  \n",
       "min      0.000000                  0.078000   21.000000    0.000000  \n",
       "25%     27.300000                  0.243500   24.000000    0.000000  \n",
       "50%     32.000000                  0.371000   29.000000    0.000000  \n",
       "75%     36.600000                  0.625000   41.000000    1.000000  \n",
       "max     67.100000                  2.420000   81.000000    1.000000  "
      ]
     },
     "execution_count": 4,
     "metadata": {},
     "output_type": "execute_result"
    }
   ],
   "source": [
    "df.describe()"
   ]
  },
  {
   "cell_type": "code",
   "execution_count": 5,
   "id": "042c6db5",
   "metadata": {
    "execution": {
     "iopub.execute_input": "2024-01-06T20:01:21.322165Z",
     "iopub.status.busy": "2024-01-06T20:01:21.321826Z",
     "iopub.status.idle": "2024-01-06T20:01:21.332823Z",
     "shell.execute_reply": "2024-01-06T20:01:21.331886Z"
    },
    "papermill": {
     "duration": 0.019911,
     "end_time": "2024-01-06T20:01:21.334647",
     "exception": false,
     "start_time": "2024-01-06T20:01:21.314736",
     "status": "completed"
    },
    "tags": []
   },
   "outputs": [
    {
     "data": {
      "text/plain": [
       "Outcome\n",
       "0    500\n",
       "1    267\n",
       "Name: count, dtype: int64"
      ]
     },
     "execution_count": 5,
     "metadata": {},
     "output_type": "execute_result"
    }
   ],
   "source": [
    "df.Outcome.value_counts()  #To check no. of people is suffering or not suffering from the diabetes"
   ]
  },
  {
   "cell_type": "code",
   "execution_count": 6,
   "id": "888a3048",
   "metadata": {
    "execution": {
     "iopub.execute_input": "2024-01-06T20:01:21.348027Z",
     "iopub.status.busy": "2024-01-06T20:01:21.347423Z",
     "iopub.status.idle": "2024-01-06T20:01:21.361230Z",
     "shell.execute_reply": "2024-01-06T20:01:21.359602Z"
    },
    "papermill": {
     "duration": 0.02301,
     "end_time": "2024-01-06T20:01:21.363547",
     "exception": false,
     "start_time": "2024-01-06T20:01:21.340537",
     "status": "completed"
    },
    "tags": []
   },
   "outputs": [],
   "source": [
    "#Train Test Split\n",
    "X=df.drop(\"Outcome\",axis=\"columns\")\n",
    "y=df.Outcome"
   ]
  },
  {
   "cell_type": "code",
   "execution_count": 7,
   "id": "e105cadd",
   "metadata": {
    "execution": {
     "iopub.execute_input": "2024-01-06T20:01:21.377207Z",
     "iopub.status.busy": "2024-01-06T20:01:21.376731Z",
     "iopub.status.idle": "2024-01-06T20:01:22.366551Z",
     "shell.execute_reply": "2024-01-06T20:01:22.365778Z"
    },
    "papermill": {
     "duration": 0.998964,
     "end_time": "2024-01-06T20:01:22.368374",
     "exception": false,
     "start_time": "2024-01-06T20:01:21.369410",
     "status": "completed"
    },
    "tags": []
   },
   "outputs": [
    {
     "data": {
      "text/plain": [
       "array([[-0.84372629, -1.12208597, -0.16024856,  0.53202348, -0.69355921,\n",
       "        -0.68372895, -0.36426474, -0.18894038],\n",
       "       [ 1.23423997,  1.94447577, -0.26357823, -1.28688187, -0.69355921,\n",
       "        -1.10230105,  0.60470064, -0.1037951 ],\n",
       "       [-0.84372629, -0.99692019, -0.16024856,  0.15569823,  0.12235685,\n",
       "        -0.49346891, -0.91968415, -1.0403932 ],\n",
       "       [-1.14057861,  0.50506924, -1.50353429,  0.90834872,  0.76467376,\n",
       "         1.40913155,  5.48273197, -0.01864981],\n",
       "       [ 0.343683  , -0.15205113,  0.25307013, -1.28688187, -0.69355921,\n",
       "        -0.81056898, -0.8170523 , -0.27408566]])"
      ]
     },
     "execution_count": 7,
     "metadata": {},
     "output_type": "execute_result"
    }
   ],
   "source": [
    "#Lets use the Standardscaler so that the value didn't differ to much\n",
    "from sklearn.preprocessing import StandardScaler\n",
    "\n",
    "scaler=StandardScaler()\n",
    "X_scaled=scaler.fit_transform(X)\n",
    "X_scaled[:5]"
   ]
  },
  {
   "cell_type": "code",
   "execution_count": 8,
   "id": "62ecc0e6",
   "metadata": {
    "execution": {
     "iopub.execute_input": "2024-01-06T20:01:22.383623Z",
     "iopub.status.busy": "2024-01-06T20:01:22.382430Z",
     "iopub.status.idle": "2024-01-06T20:01:22.475074Z",
     "shell.execute_reply": "2024-01-06T20:01:22.473882Z"
    },
    "papermill": {
     "duration": 0.103001,
     "end_time": "2024-01-06T20:01:22.477678",
     "exception": false,
     "start_time": "2024-01-06T20:01:22.374677",
     "status": "completed"
    },
    "tags": []
   },
   "outputs": [],
   "source": [
    "#Let split the data into train and test\n",
    "from sklearn.model_selection import train_test_split\n",
    "X_train,X_test,y_train,y_test=train_test_split(X_scaled,y,stratify=y,random_state=10)"
   ]
  },
  {
   "cell_type": "code",
   "execution_count": 9,
   "id": "3629e368",
   "metadata": {
    "execution": {
     "iopub.execute_input": "2024-01-06T20:01:22.491788Z",
     "iopub.status.busy": "2024-01-06T20:01:22.490776Z",
     "iopub.status.idle": "2024-01-06T20:01:22.497435Z",
     "shell.execute_reply": "2024-01-06T20:01:22.496520Z"
    },
    "papermill": {
     "duration": 0.015575,
     "end_time": "2024-01-06T20:01:22.499627",
     "exception": false,
     "start_time": "2024-01-06T20:01:22.484052",
     "status": "completed"
    },
    "tags": []
   },
   "outputs": [
    {
     "data": {
      "text/plain": [
       "(575, 8)"
      ]
     },
     "execution_count": 9,
     "metadata": {},
     "output_type": "execute_result"
    }
   ],
   "source": [
    "X_train.shape"
   ]
  },
  {
   "cell_type": "code",
   "execution_count": 10,
   "id": "5a50507b",
   "metadata": {
    "execution": {
     "iopub.execute_input": "2024-01-06T20:01:22.515142Z",
     "iopub.status.busy": "2024-01-06T20:01:22.514122Z",
     "iopub.status.idle": "2024-01-06T20:01:22.519228Z",
     "shell.execute_reply": "2024-01-06T20:01:22.518638Z"
    },
    "papermill": {
     "duration": 0.014793,
     "end_time": "2024-01-06T20:01:22.520926",
     "exception": false,
     "start_time": "2024-01-06T20:01:22.506133",
     "status": "completed"
    },
    "tags": []
   },
   "outputs": [
    {
     "data": {
      "text/plain": [
       "(192, 8)"
      ]
     },
     "execution_count": 10,
     "metadata": {},
     "output_type": "execute_result"
    }
   ],
   "source": [
    "X_test.shape"
   ]
  },
  {
   "cell_type": "code",
   "execution_count": 11,
   "id": "949f5d0f",
   "metadata": {
    "execution": {
     "iopub.execute_input": "2024-01-06T20:01:22.534996Z",
     "iopub.status.busy": "2024-01-06T20:01:22.534235Z",
     "iopub.status.idle": "2024-01-06T20:01:22.540327Z",
     "shell.execute_reply": "2024-01-06T20:01:22.539794Z"
    },
    "papermill": {
     "duration": 0.014774,
     "end_time": "2024-01-06T20:01:22.542004",
     "exception": false,
     "start_time": "2024-01-06T20:01:22.527230",
     "status": "completed"
    },
    "tags": []
   },
   "outputs": [
    {
     "data": {
      "text/plain": [
       "Outcome\n",
       "0    375\n",
       "1    200\n",
       "Name: count, dtype: int64"
      ]
     },
     "execution_count": 11,
     "metadata": {},
     "output_type": "execute_result"
    }
   ],
   "source": [
    "y_train.value_counts()#To check no. of people is suffering or not suffering from the diabetes in y train dataset"
   ]
  },
  {
   "cell_type": "code",
   "execution_count": 12,
   "id": "d20dcde4",
   "metadata": {
    "execution": {
     "iopub.execute_input": "2024-01-06T20:01:22.556712Z",
     "iopub.status.busy": "2024-01-06T20:01:22.556259Z",
     "iopub.status.idle": "2024-01-06T20:01:22.559170Z",
     "shell.execute_reply": "2024-01-06T20:01:22.558636Z"
    },
    "papermill": {
     "duration": 0.012074,
     "end_time": "2024-01-06T20:01:22.560869",
     "exception": false,
     "start_time": "2024-01-06T20:01:22.548795",
     "status": "completed"
    },
    "tags": []
   },
   "outputs": [],
   "source": [
    "#Lets first use without bagging decision tree "
   ]
  },
  {
   "cell_type": "code",
   "execution_count": 13,
   "id": "0be3f41b",
   "metadata": {
    "execution": {
     "iopub.execute_input": "2024-01-06T20:01:22.574911Z",
     "iopub.status.busy": "2024-01-06T20:01:22.574524Z",
     "iopub.status.idle": "2024-01-06T20:01:22.847327Z",
     "shell.execute_reply": "2024-01-06T20:01:22.845627Z"
    },
    "papermill": {
     "duration": 0.282272,
     "end_time": "2024-01-06T20:01:22.849626",
     "exception": false,
     "start_time": "2024-01-06T20:01:22.567354",
     "status": "completed"
    },
    "tags": []
   },
   "outputs": [
    {
     "data": {
      "text/plain": [
       "array([0.70779221, 0.65584416, 0.73202614, 0.74509804, 0.71895425])"
      ]
     },
     "execution_count": 13,
     "metadata": {},
     "output_type": "execute_result"
    }
   ],
   "source": [
    "from sklearn.model_selection import cross_val_score  \n",
    "from sklearn.tree import DecisionTreeClassifier\n",
    "\n",
    "#Using the cross validation then store the score value in score obj then take the mean\n",
    "scores=cross_val_score(DecisionTreeClassifier(),X,y,cv=5)\n",
    "scores"
   ]
  },
  {
   "cell_type": "code",
   "execution_count": 14,
   "id": "892ffb89",
   "metadata": {
    "execution": {
     "iopub.execute_input": "2024-01-06T20:01:22.865512Z",
     "iopub.status.busy": "2024-01-06T20:01:22.864091Z",
     "iopub.status.idle": "2024-01-06T20:01:22.872428Z",
     "shell.execute_reply": "2024-01-06T20:01:22.871225Z"
    },
    "papermill": {
     "duration": 0.017937,
     "end_time": "2024-01-06T20:01:22.874451",
     "exception": false,
     "start_time": "2024-01-06T20:01:22.856514",
     "status": "completed"
    },
    "tags": []
   },
   "outputs": [
    {
     "data": {
      "text/plain": [
       "0.7119429590017826"
      ]
     },
     "execution_count": 14,
     "metadata": {},
     "output_type": "execute_result"
    }
   ],
   "source": [
    "scores.mean()"
   ]
  },
  {
   "cell_type": "markdown",
   "id": "1e49c475",
   "metadata": {
    "papermill": {
     "duration": 0.006373,
     "end_time": "2024-01-06T20:01:22.887227",
     "exception": false,
     "start_time": "2024-01-06T20:01:22.880854",
     "status": "completed"
    },
    "tags": []
   },
   "source": [
    "So without the bagging in the model score is around 71,72"
   ]
  },
  {
   "cell_type": "markdown",
   "id": "8f10535d",
   "metadata": {
    "papermill": {
     "duration": 0.005981,
     "end_time": "2024-01-06T20:01:22.899533",
     "exception": false,
     "start_time": "2024-01-06T20:01:22.893552",
     "status": "completed"
    },
    "tags": []
   },
   "source": [
    "LETS TRAIN THE MODEL USING BAGGING"
   ]
  },
  {
   "cell_type": "code",
   "execution_count": 15,
   "id": "b9ffe145",
   "metadata": {
    "execution": {
     "iopub.execute_input": "2024-01-06T20:01:22.915413Z",
     "iopub.status.busy": "2024-01-06T20:01:22.914166Z",
     "iopub.status.idle": "2024-01-06T20:01:23.284014Z",
     "shell.execute_reply": "2024-01-06T20:01:23.283120Z"
    },
    "papermill": {
     "duration": 0.380007,
     "end_time": "2024-01-06T20:01:23.285917",
     "exception": false,
     "start_time": "2024-01-06T20:01:22.905910",
     "status": "completed"
    },
    "tags": []
   },
   "outputs": [
    {
     "name": "stderr",
     "output_type": "stream",
     "text": [
      "/opt/conda/lib/python3.10/site-packages/sklearn/ensemble/_base.py:166: FutureWarning: `base_estimator` was renamed to `estimator` in version 1.2 and will be removed in 1.4.\n",
      "  warnings.warn(\n"
     ]
    },
    {
     "data": {
      "text/plain": [
       "0.7634782608695653"
      ]
     },
     "execution_count": 15,
     "metadata": {},
     "output_type": "execute_result"
    }
   ],
   "source": [
    "from sklearn.ensemble import BaggingClassifier\n",
    "\n",
    "bag_model=BaggingClassifier(\n",
    "            base_estimator=DecisionTreeClassifier(),\n",
    "            n_estimators=100,\n",
    "            max_samples=0.8,\n",
    "            oob_score=True,\n",
    "            random_state=0\n",
    "            )\n",
    "bag_model.fit(X_train,y_train)\n",
    "bag_model.oob_score_"
   ]
  },
  {
   "cell_type": "code",
   "execution_count": 16,
   "id": "9230be9b",
   "metadata": {
    "execution": {
     "iopub.execute_input": "2024-01-06T20:01:23.300855Z",
     "iopub.status.busy": "2024-01-06T20:01:23.300178Z",
     "iopub.status.idle": "2024-01-06T20:01:23.319701Z",
     "shell.execute_reply": "2024-01-06T20:01:23.318828Z"
    },
    "papermill": {
     "duration": 0.029078,
     "end_time": "2024-01-06T20:01:23.321588",
     "exception": false,
     "start_time": "2024-01-06T20:01:23.292510",
     "status": "completed"
    },
    "tags": []
   },
   "outputs": [
    {
     "data": {
      "text/plain": [
       "0.7552083333333334"
      ]
     },
     "execution_count": 16,
     "metadata": {},
     "output_type": "execute_result"
    }
   ],
   "source": [
    "bag_model.score(X_test,y_test)"
   ]
  },
  {
   "cell_type": "markdown",
   "id": "3b2bfd67",
   "metadata": {
    "papermill": {
     "duration": 0.006296,
     "end_time": "2024-01-06T20:01:23.334874",
     "exception": false,
     "start_time": "2024-01-06T20:01:23.328578",
     "status": "completed"
    },
    "tags": []
   },
   "source": [
    "SO YOU CAN CLEARLY SEE BEFORE BAGGING THE SCORE IS AROUND 71,72 BUT AFTER THE BAGGING THE SCORE IS AROUND 75,76"
   ]
  },
  {
   "cell_type": "code",
   "execution_count": 17,
   "id": "ae509c65",
   "metadata": {
    "execution": {
     "iopub.execute_input": "2024-01-06T20:01:23.349893Z",
     "iopub.status.busy": "2024-01-06T20:01:23.349411Z",
     "iopub.status.idle": "2024-01-06T20:01:23.353654Z",
     "shell.execute_reply": "2024-01-06T20:01:23.352674Z"
    },
    "papermill": {
     "duration": 0.014226,
     "end_time": "2024-01-06T20:01:23.355595",
     "exception": false,
     "start_time": "2024-01-06T20:01:23.341369",
     "status": "completed"
    },
    "tags": []
   },
   "outputs": [],
   "source": [
    "#Lets add cross validation into bagging"
   ]
  },
  {
   "cell_type": "code",
   "execution_count": 18,
   "id": "a1617f61",
   "metadata": {
    "execution": {
     "iopub.execute_input": "2024-01-06T20:01:23.372811Z",
     "iopub.status.busy": "2024-01-06T20:01:23.372299Z",
     "iopub.status.idle": "2024-01-06T20:01:25.015542Z",
     "shell.execute_reply": "2024-01-06T20:01:25.014033Z"
    },
    "papermill": {
     "duration": 1.655573,
     "end_time": "2024-01-06T20:01:25.018517",
     "exception": false,
     "start_time": "2024-01-06T20:01:23.362944",
     "status": "completed"
    },
    "tags": []
   },
   "outputs": [
    {
     "name": "stderr",
     "output_type": "stream",
     "text": [
      "/opt/conda/lib/python3.10/site-packages/sklearn/ensemble/_base.py:166: FutureWarning: `base_estimator` was renamed to `estimator` in version 1.2 and will be removed in 1.4.\n",
      "  warnings.warn(\n",
      "/opt/conda/lib/python3.10/site-packages/sklearn/ensemble/_base.py:166: FutureWarning: `base_estimator` was renamed to `estimator` in version 1.2 and will be removed in 1.4.\n",
      "  warnings.warn(\n",
      "/opt/conda/lib/python3.10/site-packages/sklearn/ensemble/_base.py:166: FutureWarning: `base_estimator` was renamed to `estimator` in version 1.2 and will be removed in 1.4.\n",
      "  warnings.warn(\n",
      "/opt/conda/lib/python3.10/site-packages/sklearn/ensemble/_base.py:166: FutureWarning: `base_estimator` was renamed to `estimator` in version 1.2 and will be removed in 1.4.\n",
      "  warnings.warn(\n",
      "/opt/conda/lib/python3.10/site-packages/sklearn/ensemble/_base.py:166: FutureWarning: `base_estimator` was renamed to `estimator` in version 1.2 and will be removed in 1.4.\n",
      "  warnings.warn(\n"
     ]
    },
    {
     "data": {
      "text/plain": [
       "array([0.75324675, 0.73376623, 0.75816993, 0.81699346, 0.73202614])"
      ]
     },
     "execution_count": 18,
     "metadata": {},
     "output_type": "execute_result"
    }
   ],
   "source": [
    "bag_model = BaggingClassifier(\n",
    "    base_estimator=DecisionTreeClassifier(), \n",
    "    n_estimators=100, \n",
    "    max_samples=0.8, \n",
    "    oob_score=True,\n",
    "    random_state=0\n",
    ")\n",
    "scores = cross_val_score(bag_model, X, y, cv=5)\n",
    "scores"
   ]
  },
  {
   "cell_type": "code",
   "execution_count": 19,
   "id": "8fcfdee1",
   "metadata": {
    "execution": {
     "iopub.execute_input": "2024-01-06T20:01:25.034894Z",
     "iopub.status.busy": "2024-01-06T20:01:25.034508Z",
     "iopub.status.idle": "2024-01-06T20:01:25.042056Z",
     "shell.execute_reply": "2024-01-06T20:01:25.040469Z"
    },
    "papermill": {
     "duration": 0.017667,
     "end_time": "2024-01-06T20:01:25.043939",
     "exception": false,
     "start_time": "2024-01-06T20:01:25.026272",
     "status": "completed"
    },
    "tags": []
   },
   "outputs": [
    {
     "data": {
      "text/plain": [
       "0.7588405058993294"
      ]
     },
     "execution_count": 19,
     "metadata": {},
     "output_type": "execute_result"
    }
   ],
   "source": [
    "scores.mean()"
   ]
  },
  {
   "cell_type": "code",
   "execution_count": 20,
   "id": "801b2ed8",
   "metadata": {
    "execution": {
     "iopub.execute_input": "2024-01-06T20:01:25.060551Z",
     "iopub.status.busy": "2024-01-06T20:01:25.060155Z",
     "iopub.status.idle": "2024-01-06T20:01:25.532408Z",
     "shell.execute_reply": "2024-01-06T20:01:25.531436Z"
    },
    "papermill": {
     "duration": 0.482312,
     "end_time": "2024-01-06T20:01:25.534092",
     "exception": false,
     "start_time": "2024-01-06T20:01:25.051780",
     "status": "completed"
    },
    "tags": []
   },
   "outputs": [
    {
     "data": {
      "text/plain": [
       "0.7640777523130463"
      ]
     },
     "execution_count": 20,
     "metadata": {},
     "output_type": "execute_result"
    }
   ],
   "source": [
    "#Train using Random Forest \n",
    "#The difference is that random forest but it also randomly pick the features also\n",
    "from sklearn.ensemble import RandomForestClassifier\n",
    "scores=cross_val_score(RandomForestClassifier(n_estimators=50),X,y,cv=5)\n",
    "scores.mean()"
   ]
  }
 ],
 "metadata": {
  "kaggle": {
   "accelerator": "none",
   "dataSources": [
    {
     "datasetId": 1307679,
     "sourceId": 2178139,
     "sourceType": "datasetVersion"
    }
   ],
   "dockerImageVersionId": 30626,
   "isGpuEnabled": false,
   "isInternetEnabled": true,
   "language": "python",
   "sourceType": "notebook"
  },
  "kernelspec": {
   "display_name": "Python 3",
   "language": "python",
   "name": "python3"
  },
  "language_info": {
   "codemirror_mode": {
    "name": "ipython",
    "version": 3
   },
   "file_extension": ".py",
   "mimetype": "text/x-python",
   "name": "python",
   "nbconvert_exporter": "python",
   "pygments_lexer": "ipython3",
   "version": "3.10.12"
  },
  "papermill": {
   "default_parameters": {},
   "duration": 9.128584,
   "end_time": "2024-01-06T20:01:26.161131",
   "environment_variables": {},
   "exception": null,
   "input_path": "__notebook__.ipynb",
   "output_path": "__notebook__.ipynb",
   "parameters": {},
   "start_time": "2024-01-06T20:01:17.032547",
   "version": "2.4.0"
  }
 },
 "nbformat": 4,
 "nbformat_minor": 5
}
